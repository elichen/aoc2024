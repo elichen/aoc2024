{
  "nbformat": 4,
  "nbformat_minor": 0,
  "metadata": {
    "colab": {
      "provenance": [],
      "authorship_tag": "ABX9TyM8C+Xaf3OueEMuLCWcPV/n",
      "include_colab_link": true
    },
    "kernelspec": {
      "name": "python3",
      "display_name": "Python 3"
    },
    "language_info": {
      "name": "python"
    }
  },
  "cells": [
    {
      "cell_type": "markdown",
      "metadata": {
        "id": "view-in-github",
        "colab_type": "text"
      },
      "source": [
        "<a href=\"https://colab.research.google.com/github/elichen/aoc2024/blob/main/Day_23_LAN_Party.ipynb\" target=\"_parent\"><img src=\"https://colab.research.google.com/assets/colab-badge.svg\" alt=\"Open In Colab\"/></a>"
      ]
    },
    {
      "cell_type": "code",
      "execution_count": 105,
      "metadata": {
        "id": "UYFGQ0X4V1AB"
      },
      "outputs": [],
      "source": [
        "input = \"\"\"kh-tc\n",
        "qp-kh\n",
        "de-cg\n",
        "ka-co\n",
        "yn-aq\n",
        "qp-ub\n",
        "cg-tb\n",
        "vc-aq\n",
        "tb-ka\n",
        "wh-tc\n",
        "yn-cg\n",
        "kh-ub\n",
        "ta-co\n",
        "de-co\n",
        "tc-td\n",
        "tb-wq\n",
        "wh-td\n",
        "ta-ka\n",
        "td-qp\n",
        "aq-cg\n",
        "wq-ub\n",
        "ub-vc\n",
        "de-ta\n",
        "wq-aq\n",
        "wq-vc\n",
        "wh-yn\n",
        "ka-de\n",
        "kh-ta\n",
        "co-tc\n",
        "wh-qp\n",
        "tb-vc\n",
        "td-yn\"\"\""
      ]
    },
    {
      "cell_type": "code",
      "source": [
        "input = open(\"input.txt\").read()"
      ],
      "metadata": {
        "id": "EPAPlNHmYFhy"
      },
      "execution_count": 106,
      "outputs": []
    },
    {
      "cell_type": "code",
      "source": [
        "connections = {}\n",
        "res = set()\n",
        "\n",
        "for line in input.strip().split('\\n'):\n",
        "    left, right = line.split('-')\n",
        "\n",
        "    if left not in connections:\n",
        "        connections[left] = set()\n",
        "    if right not in connections:\n",
        "        connections[right] = set()\n",
        "\n",
        "    connections[left].add(right)\n",
        "    connections[right].add(left)\n",
        "\n",
        "    # Check for matches as we go\n",
        "    common = set(connections[left]) & set(connections[right])\n",
        "    if common:\n",
        "        for value in common:\n",
        "            res.add(frozenset({left, right, value}))\n",
        "\n",
        "len([r for r in res if any(x.startswith('t') for x in r)])"
      ],
      "metadata": {
        "colab": {
          "base_uri": "https://localhost:8080/"
        },
        "id": "VEXakfuyV40E",
        "outputId": "5d792e82-003e-4e74-b45d-f1dc3dca71dc"
      },
      "execution_count": 107,
      "outputs": [
        {
          "output_type": "execute_result",
          "data": {
            "text/plain": [
              "1308"
            ]
          },
          "metadata": {},
          "execution_count": 107
        }
      ]
    },
    {
      "cell_type": "code",
      "source": [
        "nodes = list(connections.keys())\n",
        "max_len = 0\n",
        "large_sets = res\n",
        "\n",
        "while True:\n",
        "    found_new = False\n",
        "    new_sets = set()\n",
        "\n",
        "    for tup in large_sets:\n",
        "        for node in nodes:\n",
        "            # Skip if node already in tuple\n",
        "            if node in tup:\n",
        "                continue\n",
        "\n",
        "            # Check if node is connected to all nodes in tuple\n",
        "            is_connected = all(\n",
        "                node in connections[existing]\n",
        "                for existing in tup\n",
        "            )\n",
        "\n",
        "            if is_connected:\n",
        "                if max_len <= len(tup):\n",
        "                  max_len = len(tup)+1\n",
        "                found_new = True\n",
        "                new_sets.add(frozenset(tup | {node}))\n",
        "                break\n",
        "    if not found_new:\n",
        "        break\n",
        "    large_sets = new_sets"
      ],
      "metadata": {
        "id": "H4_rGrChYJZk"
      },
      "execution_count": 108,
      "outputs": []
    },
    {
      "cell_type": "code",
      "source": [
        "\",\".join(sorted(list(list(large_sets)[0])))"
      ],
      "metadata": {
        "colab": {
          "base_uri": "https://localhost:8080/",
          "height": 35
        },
        "id": "xUkHfU-Tkzf3",
        "outputId": "4139a76e-f811-4bbc-c562-830ab1a7cae9"
      },
      "execution_count": 109,
      "outputs": [
        {
          "output_type": "execute_result",
          "data": {
            "text/plain": [
              "'bu,fq,fz,pn,rr,st,sv,tr,un,uy,zf,zi,zy'"
            ],
            "application/vnd.google.colaboratory.intrinsic+json": {
              "type": "string"
            }
          },
          "metadata": {},
          "execution_count": 109
        }
      ]
    }
  ]
}