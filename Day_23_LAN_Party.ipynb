{
  "nbformat": 4,
  "nbformat_minor": 0,
  "metadata": {
    "colab": {
      "provenance": [],
      "authorship_tag": "ABX9TyOs3adYaNzMWeDFkvFHL8bd",
      "include_colab_link": true
    },
    "kernelspec": {
      "name": "python3",
      "display_name": "Python 3"
    },
    "language_info": {
      "name": "python"
    }
  },
  "cells": [
    {
      "cell_type": "markdown",
      "metadata": {
        "id": "view-in-github",
        "colab_type": "text"
      },
      "source": [
        "<a href=\"https://colab.research.google.com/github/elichen/aoc2024/blob/main/Day_23_LAN_Party.ipynb\" target=\"_parent\"><img src=\"https://colab.research.google.com/assets/colab-badge.svg\" alt=\"Open In Colab\"/></a>"
      ]
    },
    {
      "cell_type": "code",
      "execution_count": 3,
      "metadata": {
        "id": "UYFGQ0X4V1AB"
      },
      "outputs": [],
      "source": [
        "input = \"\"\"kh-tc\n",
        "qp-kh\n",
        "de-cg\n",
        "ka-co\n",
        "yn-aq\n",
        "qp-ub\n",
        "cg-tb\n",
        "vc-aq\n",
        "tb-ka\n",
        "wh-tc\n",
        "yn-cg\n",
        "kh-ub\n",
        "ta-co\n",
        "de-co\n",
        "tc-td\n",
        "tb-wq\n",
        "wh-td\n",
        "ta-ka\n",
        "td-qp\n",
        "aq-cg\n",
        "wq-ub\n",
        "ub-vc\n",
        "de-ta\n",
        "wq-aq\n",
        "wq-vc\n",
        "wh-yn\n",
        "ka-de\n",
        "kh-ta\n",
        "co-tc\n",
        "wh-qp\n",
        "tb-vc\n",
        "td-yn\"\"\""
      ]
    },
    {
      "cell_type": "code",
      "source": [
        "input = open(\"input.txt\").read()"
      ],
      "metadata": {
        "id": "EPAPlNHmYFhy"
      },
      "execution_count": 11,
      "outputs": []
    },
    {
      "cell_type": "code",
      "source": [
        "def find_matching_pairs(input_str):\n",
        "    connections = {}\n",
        "    result = []\n",
        "\n",
        "    for line in input_str.strip().split('\\n'):\n",
        "        left, right = line.split('-')\n",
        "\n",
        "        if left not in connections:\n",
        "            connections[left] = []\n",
        "        if right not in connections:\n",
        "            connections[right] = []\n",
        "\n",
        "        connections[left].append(right)\n",
        "        connections[right].append(left)\n",
        "\n",
        "        # Check for matches as we go\n",
        "        common = set(connections[left]) & set(connections[right])\n",
        "        if common:\n",
        "            for value in common:\n",
        "                result.append((left, right, value))\n",
        "\n",
        "    return result\n",
        "\n",
        "res = find_matching_pairs(input)\n",
        "len([r for r in res if any(x.startswith('t') for x in r)])"
      ],
      "metadata": {
        "colab": {
          "base_uri": "https://localhost:8080/"
        },
        "id": "VEXakfuyV40E",
        "outputId": "a44e2b8c-d256-4a8e-c7d9-2028acdac76f"
      },
      "execution_count": 12,
      "outputs": [
        {
          "output_type": "execute_result",
          "data": {
            "text/plain": [
              "1308"
            ]
          },
          "metadata": {},
          "execution_count": 12
        }
      ]
    },
    {
      "cell_type": "code",
      "source": [],
      "metadata": {
        "id": "H4_rGrChYJZk"
      },
      "execution_count": null,
      "outputs": []
    }
  ]
}