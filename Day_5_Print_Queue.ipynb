{
  "nbformat": 4,
  "nbformat_minor": 0,
  "metadata": {
    "colab": {
      "provenance": [],
      "authorship_tag": "ABX9TyOvKkUlA9uMlDKE0nFLYC0G",
      "include_colab_link": true
    },
    "kernelspec": {
      "name": "python3",
      "display_name": "Python 3"
    },
    "language_info": {
      "name": "python"
    }
  },
  "cells": [
    {
      "cell_type": "markdown",
      "metadata": {
        "id": "view-in-github",
        "colab_type": "text"
      },
      "source": [
        "<a href=\"https://colab.research.google.com/github/elichen/aoc2024/blob/main/Day_5_Print_Queue.ipynb\" target=\"_parent\"><img src=\"https://colab.research.google.com/assets/colab-badge.svg\" alt=\"Open In Colab\"/></a>"
      ]
    },
    {
      "cell_type": "code",
      "source": [
        "input = \"\"\"47|53\n",
        "97|13\n",
        "97|61\n",
        "97|47\n",
        "75|29\n",
        "61|13\n",
        "75|53\n",
        "29|13\n",
        "97|29\n",
        "53|29\n",
        "61|53\n",
        "97|53\n",
        "61|29\n",
        "47|13\n",
        "75|47\n",
        "97|75\n",
        "47|61\n",
        "75|61\n",
        "47|29\n",
        "75|13\n",
        "53|13\n",
        "\n",
        "75,47,61,53,29\n",
        "97,61,53,29,13\n",
        "75,29,13\n",
        "75,97,47,61,53\n",
        "61,13,29\n",
        "97,13,75,29,47\"\"\""
      ],
      "metadata": {
        "id": "e4OFjcBRgnkN"
      },
      "execution_count": 1,
      "outputs": []
    },
    {
      "cell_type": "code",
      "source": [
        "input = open(\"input.txt\").read()"
      ],
      "metadata": {
        "id": "-N5ZWUXviPPZ"
      },
      "execution_count": 2,
      "outputs": []
    },
    {
      "cell_type": "code",
      "execution_count": 5,
      "metadata": {
        "id": "0Vc1ziFKf57G"
      },
      "outputs": [],
      "source": [
        "sections = input.strip().split(\"\\n\\n\")\n",
        "mapping_lines = sections[0].strip().split(\"\\n\")\n",
        "list_lines = sections[1].strip().split(\"\\n\")\n",
        "\n",
        "map_section = {}\n",
        "for line in mapping_lines:\n",
        "    first, second = map(int, line.split(\"|\"))\n",
        "    if second not in map_section:\n",
        "        map_section[second] = []\n",
        "    map_section[second].append(first)\n",
        "\n",
        "list_section = [list(map(int, line.split(\",\"))) for line in list_lines]"
      ]
    },
    {
      "cell_type": "code",
      "source": [
        "def check_map_matches(map_section, numbers):\n",
        "    for i, num in enumerate(numbers):\n",
        "        if num in map_section:\n",
        "            # Check if any number to the right is in the map matches\n",
        "            for right_num in numbers[i+1:]:\n",
        "                if right_num in map_section[num]:\n",
        "                    return False\n",
        "    return True\n",
        "\n",
        "total = 0\n",
        "for l in list_section:\n",
        "  if check_map_matches(map_section, l):\n",
        "    total += l[len(l)//2]\n",
        "total"
      ],
      "metadata": {
        "colab": {
          "base_uri": "https://localhost:8080/"
        },
        "id": "xASxOfBBhXNI",
        "outputId": "a7ad06a4-c6fa-40c1-923b-8fdbd13808f9"
      },
      "execution_count": 6,
      "outputs": [
        {
          "output_type": "execute_result",
          "data": {
            "text/plain": [
              "5651"
            ]
          },
          "metadata": {},
          "execution_count": 6
        }
      ]
    }
  ]
}