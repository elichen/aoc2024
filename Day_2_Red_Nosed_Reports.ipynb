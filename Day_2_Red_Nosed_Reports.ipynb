{
  "nbformat": 4,
  "nbformat_minor": 0,
  "metadata": {
    "colab": {
      "provenance": [],
      "authorship_tag": "ABX9TyN1V6j64EYl/IcKphdFnHtO",
      "include_colab_link": true
    },
    "kernelspec": {
      "name": "python3",
      "display_name": "Python 3"
    },
    "language_info": {
      "name": "python"
    }
  },
  "cells": [
    {
      "cell_type": "markdown",
      "metadata": {
        "id": "view-in-github",
        "colab_type": "text"
      },
      "source": [
        "<a href=\"https://colab.research.google.com/github/elichen/aoc2024/blob/main/Day_2_Red_Nosed_Reports.ipynb\" target=\"_parent\"><img src=\"https://colab.research.google.com/assets/colab-badge.svg\" alt=\"Open In Colab\"/></a>"
      ]
    },
    {
      "cell_type": "code",
      "execution_count": 42,
      "metadata": {
        "id": "Ghvu2phUBNWU"
      },
      "outputs": [],
      "source": [
        "input = \"\"\"7 6 4 2 1\n",
        "1 2 7 8 9\n",
        "9 7 6 2 1\n",
        "1 3 2 4 5\n",
        "8 6 4 4 1\n",
        "1 3 6 7 9\"\"\".split('\\n')"
      ]
    },
    {
      "cell_type": "code",
      "source": [
        "input = open(\"input.txt\")"
      ],
      "metadata": {
        "id": "23r7fs0dDbEi"
      },
      "execution_count": 43,
      "outputs": []
    },
    {
      "cell_type": "code",
      "source": [
        "input = [list(map(int, x.split())) for x in input]"
      ],
      "metadata": {
        "id": "0y_0RXkbBSKR"
      },
      "execution_count": 44,
      "outputs": []
    },
    {
      "cell_type": "code",
      "source": [
        "def check(l):\n",
        "  return ((all(x < y for x,y in zip(l,l[1:])) or all(x > y for x,y in zip(l,l[1:]))) and\n",
        "          all(abs(x-y) <= 3 for x,y in zip(l,l[1:])))\n",
        "sum(check(x) for x in input)"
      ],
      "metadata": {
        "colab": {
          "base_uri": "https://localhost:8080/"
        },
        "id": "n5y_bfoSB1jk",
        "outputId": "a18dd8ef-561f-4b93-cbc8-a521de6a0ebe"
      },
      "execution_count": 45,
      "outputs": [
        {
          "output_type": "execute_result",
          "data": {
            "text/plain": [
              "463"
            ]
          },
          "metadata": {},
          "execution_count": 45
        }
      ]
    },
    {
      "cell_type": "code",
      "source": [
        "def check2(l):\n",
        "  if check(l): return True\n",
        "  for i in range(len(l)):\n",
        "    if check(l[:i]+l[i+1:]): return True\n",
        "  return False\n",
        "sum(check2(x) for x in input)"
      ],
      "metadata": {
        "colab": {
          "base_uri": "https://localhost:8080/"
        },
        "id": "GWrnbEwPD2fv",
        "outputId": "d8fe923c-8630-473d-a3bf-7e121bcf0d53"
      },
      "execution_count": 46,
      "outputs": [
        {
          "output_type": "execute_result",
          "data": {
            "text/plain": [
              "514"
            ]
          },
          "metadata": {},
          "execution_count": 46
        }
      ]
    }
  ]
}