{
  "nbformat": 4,
  "nbformat_minor": 0,
  "metadata": {
    "colab": {
      "provenance": [],
      "authorship_tag": "ABX9TyOjJVl3mtjxENvblmTir6UT",
      "include_colab_link": true
    },
    "kernelspec": {
      "name": "python3",
      "display_name": "Python 3"
    },
    "language_info": {
      "name": "python"
    }
  },
  "cells": [
    {
      "cell_type": "markdown",
      "metadata": {
        "id": "view-in-github",
        "colab_type": "text"
      },
      "source": [
        "<a href=\"https://colab.research.google.com/github/elichen/aoc2024/blob/main/Day_21_Keypad_Conundrum.ipynb\" target=\"_parent\"><img src=\"https://colab.research.google.com/assets/colab-badge.svg\" alt=\"Open In Colab\"/></a>"
      ]
    },
    {
      "cell_type": "code",
      "source": [
        "input = \"\"\"029A\n",
        "980A\n",
        "179A\n",
        "456A\n",
        "379A\"\"\""
      ],
      "metadata": {
        "id": "ZgkmaPNkh6nl"
      },
      "execution_count": 72,
      "outputs": []
    },
    {
      "cell_type": "code",
      "source": [
        "input = \"\"\"539A\n",
        "964A\n",
        "803A\n",
        "149A\n",
        "789A\"\"\""
      ],
      "metadata": {
        "id": "ucXmc_MbmOId"
      },
      "execution_count": 111,
      "outputs": []
    },
    {
      "cell_type": "code",
      "source": [
        "from collections import deque\n",
        "\n",
        "def get_direction(from_pos, to_pos):\n",
        "    \"\"\"Get the direction command to move from one position to another\"\"\"\n",
        "    from_row, from_col = from_pos\n",
        "    to_row, to_col = to_pos\n",
        "\n",
        "    if from_row > to_row:\n",
        "        return '^' * (from_row - to_row)  # Multiple steps up\n",
        "    if from_row < to_row:\n",
        "        return 'v' * (to_row - from_row)  # Multiple steps down\n",
        "    if from_col > to_col:\n",
        "        return '<' * (from_col - to_col)  # Multiple steps left\n",
        "    if from_col < to_col:\n",
        "        return '>' * (to_col - from_col)  # Multiple steps right\n",
        "    return ''\n",
        "\n",
        "def find_path(sequence, keypad):\n",
        "    \"\"\"Process a sequence of buttons and return possible paths of commands\"\"\"\n",
        "    gap_pos = keypad['X']\n",
        "    current_pos = keypad['A']\n",
        "    all_paths = ['']  # Start with empty path\n",
        "\n",
        "    for char in sequence.strip():\n",
        "        if char not in keypad or char == 'X':\n",
        "            continue\n",
        "\n",
        "        target_pos = keypad[char]\n",
        "        curr_row, curr_col = current_pos\n",
        "        target_row, target_col = target_pos\n",
        "\n",
        "        # Check if each path crosses the gap\n",
        "        vert_crosses_gap = (curr_col == gap_pos[1] and\n",
        "                           min(curr_row, target_row) <= gap_pos[0] <= max(curr_row, target_row))\n",
        "        horz_crosses_gap = (curr_row == gap_pos[0] and\n",
        "                           min(curr_col, target_col) <= gap_pos[1] <= max(curr_col, target_col))\n",
        "\n",
        "        new_paths = []\n",
        "        for base_path in all_paths:\n",
        "            # Add vertical-first path if valid\n",
        "            if not vert_crosses_gap:\n",
        "                vert_path = base_path\n",
        "                if curr_row != target_row:\n",
        "                    vert_path += get_direction(current_pos, (target_row, curr_col))\n",
        "                if curr_col != target_col:\n",
        "                    vert_path += get_direction((target_row, curr_col), target_pos)\n",
        "                vert_path += 'A'\n",
        "                new_paths.append(vert_path)\n",
        "\n",
        "            # Add horizontal-first path if valid and different\n",
        "            if not horz_crosses_gap:\n",
        "                horz_path = base_path\n",
        "                if curr_col != target_col:\n",
        "                    horz_path += get_direction(current_pos, (curr_row, target_col))\n",
        "                if curr_row != target_row:\n",
        "                    horz_path += get_direction((curr_row, target_col), target_pos)\n",
        "                horz_path += 'A'\n",
        "                # Only add if it's different from vertical path\n",
        "                if horz_path not in new_paths:\n",
        "                    new_paths.append(horz_path)\n",
        "\n",
        "        all_paths = new_paths\n",
        "        current_pos = target_pos\n",
        "\n",
        "    return all_paths\n",
        "\n",
        "def reverse_path(path, keypad):\n",
        "    \"\"\"\n",
        "    Given a path string (e.g. \"^^<<A>A\") and a keypad layout,\n",
        "    returns the sequence of buttons that were pressed\n",
        "    \"\"\"\n",
        "    current_pos = keypad['A']  # Start at 'A' button\n",
        "    buttons = []\n",
        "\n",
        "    i = 0\n",
        "    while i < len(path):\n",
        "        moves = []\n",
        "        while i < len(path) and path[i] in '^v<>':\n",
        "            moves.append(path[i])\n",
        "            i += 1\n",
        "\n",
        "        for move in moves:\n",
        "            row, col = current_pos\n",
        "            if move == '^':\n",
        "                current_pos = (row - 1, col)\n",
        "            elif move == 'v':\n",
        "                current_pos = (row + 1, col)\n",
        "            elif move == '<':\n",
        "                current_pos = (row, col - 1)\n",
        "            elif move == '>':\n",
        "                current_pos = (row, col + 1)\n",
        "\n",
        "        if i < len(path) and path[i] == 'A':\n",
        "            for button, pos in keypad.items():\n",
        "                if pos == current_pos and button != 'X':\n",
        "                    buttons.append(button)\n",
        "                    break\n",
        "            i += 1\n",
        "\n",
        "    return ''.join(buttons)\n",
        "\n",
        "num_keypad = {\n",
        "    '7': (0, 0), '8': (0, 1), '9': (0, 2),\n",
        "    '4': (1, 0), '5': (1, 1), '6': (1, 2),\n",
        "    '1': (2, 0), '2': (2, 1), '3': (2, 2),\n",
        "    'X': (3, 0), '0': (3, 1), 'A': (3, 2)\n",
        "}\n",
        "dir_keypad = {\n",
        "    'X': (0, 0), '^': (0, 1), 'A': (0, 2),\n",
        "    '<': (1, 0), 'v': (1, 1), '>': (1, 2),\n",
        "}\n",
        "total = 0\n",
        "for x in input.split():\n",
        "  n = int(x[:-1])\n",
        "  # print(x)\n",
        "  x = find_path(x, num_keypad)\n",
        "  # print(x)\n",
        "  x = [s for si in x for s in find_path(si, dir_keypad)]\n",
        "  # print(x)\n",
        "  x = [s for si in x for s in find_path(si, dir_keypad)]\n",
        "  # print(x)\n",
        "  print(min(len(s) for s in x))\n",
        "  total += min(len(s) for s in x) * n\n",
        "total"
      ],
      "metadata": {
        "colab": {
          "base_uri": "https://localhost:8080/"
        },
        "id": "TH_5-6PrDtzL",
        "outputId": "2e83cd7c-d743-46a4-eda6-951cfda01996"
      },
      "execution_count": 113,
      "outputs": [
        {
          "output_type": "stream",
          "name": "stdout",
          "text": [
            "70\n",
            "72\n",
            "76\n",
            "76\n",
            "66\n"
          ]
        },
        {
          "output_type": "execute_result",
          "data": {
            "text/plain": [
              "231564"
            ]
          },
          "metadata": {},
          "execution_count": 113
        }
      ]
    }
  ]
}