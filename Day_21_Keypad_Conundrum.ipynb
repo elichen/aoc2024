{
  "cells": [
    {
      "cell_type": "markdown",
      "metadata": {
        "id": "view-in-github",
        "colab_type": "text"
      },
      "source": [
        "<a href=\"https://colab.research.google.com/github/elichen/aoc2024/blob/main/Day_21_Keypad_Conundrum.ipynb\" target=\"_parent\"><img src=\"https://colab.research.google.com/assets/colab-badge.svg\" alt=\"Open In Colab\"/></a>"
      ]
    },
    {
      "cell_type": "code",
      "execution_count": 319,
      "metadata": {
        "id": "ZgkmaPNkh6nl"
      },
      "outputs": [],
      "source": [
        "input1 = \"\"\"029A\n",
        "980A\n",
        "179A\n",
        "456A\n",
        "379A\"\"\""
      ]
    },
    {
      "cell_type": "code",
      "execution_count": 320,
      "metadata": {
        "id": "ucXmc_MbmOId"
      },
      "outputs": [],
      "source": [
        "input = \"\"\"539A\n",
        "964A\n",
        "803A\n",
        "149A\n",
        "789A\"\"\""
      ]
    },
    {
      "cell_type": "code",
      "execution_count": 321,
      "metadata": {
        "colab": {
          "base_uri": "https://localhost:8080/"
        },
        "id": "TH_5-6PrDtzL",
        "outputId": "fe2bca43-7525-43ab-8747-a4d067b98066"
      },
      "outputs": [
        {
          "output_type": "stream",
          "name": "stdout",
          "text": [
            "70\n",
            "72\n",
            "76\n",
            "76\n",
            "66\n"
          ]
        },
        {
          "output_type": "execute_result",
          "data": {
            "text/plain": [
              "231564"
            ]
          },
          "metadata": {},
          "execution_count": 321
        }
      ],
      "source": [
        "from collections import deque\n",
        "\n",
        "def get_direction(from_pos, to_pos):\n",
        "    \"\"\"Get the direction command to move from one position to another\"\"\"\n",
        "    from_row, from_col = from_pos\n",
        "    to_row, to_col = to_pos\n",
        "\n",
        "    if from_row > to_row:\n",
        "        return '^' * (from_row - to_row)  # Multiple steps up\n",
        "    if from_row < to_row:\n",
        "        return 'v' * (to_row - from_row)  # Multiple steps down\n",
        "    if from_col > to_col:\n",
        "        return '<' * (from_col - to_col)  # Multiple steps left\n",
        "    if from_col < to_col:\n",
        "        return '>' * (to_col - from_col)  # Multiple steps right\n",
        "    return ''\n",
        "\n",
        "def find_path_multi(sequence, keypad):\n",
        "    \"\"\"Process a sequence of buttons and return possible paths of commands\"\"\"\n",
        "    gap_pos = keypad['X']\n",
        "    current_pos = keypad['A']\n",
        "    all_paths = {''}  # Start with empty path\n",
        "\n",
        "    for char in sequence.strip():\n",
        "        if char not in keypad or char == 'X':\n",
        "            continue\n",
        "\n",
        "        target_pos = keypad[char]\n",
        "        curr_row, curr_col = current_pos\n",
        "        target_row, target_col = target_pos\n",
        "\n",
        "        # Check if each path crosses the gap\n",
        "        vert_crosses_gap = (curr_col == gap_pos[1] and\n",
        "                           min(curr_row, target_row) <= gap_pos[0] <= max(curr_row, target_row))\n",
        "        horz_crosses_gap = (curr_row == gap_pos[0] and\n",
        "                           min(curr_col, target_col) <= gap_pos[1] <= max(curr_col, target_col))\n",
        "\n",
        "        new_paths = set()\n",
        "        for base_path in all_paths:\n",
        "            # Add vertical-first path if valid\n",
        "            if not vert_crosses_gap:\n",
        "                vert_path = base_path\n",
        "                if curr_row != target_row:\n",
        "                    vert_path += get_direction(current_pos, (target_row, curr_col))\n",
        "                if curr_col != target_col:\n",
        "                    vert_path += get_direction((target_row, curr_col), target_pos)\n",
        "                vert_path += 'A'\n",
        "                new_paths.add(vert_path)\n",
        "\n",
        "            # Add horizontal-first path if valid\n",
        "            if not horz_crosses_gap:\n",
        "                horz_path = base_path\n",
        "                if curr_col != target_col:\n",
        "                    horz_path += get_direction(current_pos, (curr_row, target_col))\n",
        "                if curr_row != target_row:\n",
        "                    horz_path += get_direction((curr_row, target_col), target_pos)\n",
        "                horz_path += 'A'\n",
        "                new_paths.add(horz_path)\n",
        "\n",
        "        all_paths = new_paths\n",
        "        current_pos = target_pos\n",
        "\n",
        "    return all_paths\n",
        "\n",
        "num_keypad = {\n",
        "    '7': (0, 0), '8': (0, 1), '9': (0, 2),\n",
        "    '4': (1, 0), '5': (1, 1), '6': (1, 2),\n",
        "    '1': (2, 0), '2': (2, 1), '3': (2, 2),\n",
        "    'X': (3, 0), '0': (3, 1), 'A': (3, 2)\n",
        "}\n",
        "dir_keypad = {\n",
        "    'X': (0, 0), '^': (0, 1), 'A': (0, 2),\n",
        "    '<': (1, 0), 'v': (1, 1), '>': (1, 2),\n",
        "}\n",
        "total = 0\n",
        "for x in input.split():\n",
        "  n = int(x[:-1])\n",
        "  # print(x)\n",
        "  x = find_path_multi(x, num_keypad)\n",
        "  # print(x)\n",
        "  x = [s for si in x for s in find_path_multi(si, dir_keypad)]\n",
        "  # print(x)\n",
        "  x = [s for si in x for s in find_path_multi(si, dir_keypad)]\n",
        "  # print(x)\n",
        "  print(min(len(s) for s in x))\n",
        "  total += min(len(s) for s in x) * n\n",
        "total"
      ]
    },
    {
      "cell_type": "code",
      "source": [
        "transitions = {\n",
        "    # From A to other buttons\n",
        "    \"A to ^\": {\"A to <\", \"< to A\"},\n",
        "    \"A to <\": {\"A to v\", \"v to <\", \"< to <\", \"< to A\"},\n",
        "    \"A to v\": {\"A to <\", \"< to v\", \"v to A\"},\n",
        "    \"A to >\": {\"A to v\", \"v to A\"},\n",
        "    \"A to A\": {\"A to A\"},\n",
        "\n",
        "    # From ^ to other buttons\n",
        "    \"^ to A\": {\"A to >\", \"> to A\"},\n",
        "    \"^ to <\": {\"A to v\", \"v to <\", \"< to A\"},\n",
        "    \"^ to v\": {\"A to v\", \"v to A\"},\n",
        "    \"^ to >\": {\"A to v\", \"v to >\", \"> to A\"},\n",
        "    \"^ to ^\": {\"^ to ^\"},\n",
        "\n",
        "    # From < to other buttons\n",
        "    \"< to A\": {\"A to >\", \"> to >\", \"> to ^\", \"^ to A\"},\n",
        "    \"< to ^\": {\"A to >\", \"> to ^\", \"^ to A\"},\n",
        "    \"< to v\": {\"A to >\", \"> to A\"},\n",
        "    \"< to >\": {\"A to >\", \"> to >\", \"> to A\"},\n",
        "    \"< to <\": {\"< to <\"},\n",
        "\n",
        "    # From v to other buttons\n",
        "    \"v to A\": {\"A to ^\", \"^ to >\", \"> to A\"},\n",
        "    \"v to ^\": {\"A to ^\", \"^ to A\"},\n",
        "    \"v to <\": {\"A to <\", \"< to A\"},\n",
        "    \"v to >\": {\"A to >\", \"> to A\"},\n",
        "    \"v to v\": {\"v to v\"},\n",
        "\n",
        "    # From > to other buttons\n",
        "    \"> to A\": {\"A to ^\", \"^ to A\"},\n",
        "    \"> to ^\": {\"A to <\", \"< to ^\", \"^ to A\"},\n",
        "    \"> to <\": {\"A to <\", \"< to <\", \"< to A\"},\n",
        "    \"> to v\": {\"A to <\", \"< to A\"},\n",
        "    \"> to >\": {\"> to >\"}\n",
        "}\n",
        "\n",
        "def count_transitions(path):\n",
        "    buttons = ['A']  # Start with initial state\n",
        "    for c in path:\n",
        "        if c in '^v<>A':\n",
        "            buttons.append(c)\n",
        "\n",
        "    transition_counts = {}\n",
        "    for i in range(len(buttons)-1):\n",
        "        from_button = buttons[i]\n",
        "        to_button = buttons[i+1]\n",
        "        transition = f\"{from_button} to {to_button}\"\n",
        "        transition_counts[transition] = transition_counts.get(transition, 0) + 1\n",
        "\n",
        "    return transition_counts\n",
        "\n",
        "def translate_path(transition_counts, next_level_map):\n",
        "    next_level_counts = {}\n",
        "\n",
        "    # For each high-level transition and its count\n",
        "    for transition, count in transition_counts.items():\n",
        "        # Get the set of sub-transitions needed\n",
        "        if transition in next_level_map:\n",
        "            sub_transitions = next_level_map[transition]\n",
        "            # Add count to each sub-transition\n",
        "            for sub_transition in sub_transitions:\n",
        "                next_level_counts[sub_transition] = (\n",
        "                    next_level_counts.get(sub_transition, 0) + count\n",
        "                )\n",
        "\n",
        "    return next_level_counts\n",
        "\n",
        "total = 0\n",
        "for code in input.split():\n",
        "  n = int(code[:-1])\n",
        "  paths = find_path_multi(code, num_keypad)\n",
        "  cs = [count_transitions(x) for x in paths]\n",
        "  for i in range(25):\n",
        "    cs = [translate_path(x, transitions) for x in cs]\n",
        "  min_len = min([sum(x.values()) for x in cs])\n",
        "  total += min_len * n\n",
        "total"
      ],
      "metadata": {
        "colab": {
          "base_uri": "https://localhost:8080/"
        },
        "id": "ybwSFuGf5gFx",
        "outputId": "d1909192-735a-41d6-8059-586551bfde97"
      },
      "execution_count": 324,
      "outputs": [
        {
          "output_type": "execute_result",
          "data": {
            "text/plain": [
              "281212077733592"
            ]
          },
          "metadata": {},
          "execution_count": 324
        }
      ]
    }
  ],
  "metadata": {
    "colab": {
      "provenance": [],
      "authorship_tag": "ABX9TyPN/1BvlTQTlCzSB+kTop15",
      "include_colab_link": true
    },
    "kernelspec": {
      "display_name": "Python 3",
      "name": "python3"
    },
    "language_info": {
      "name": "python"
    }
  },
  "nbformat": 4,
  "nbformat_minor": 0
}