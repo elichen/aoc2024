{
  "nbformat": 4,
  "nbformat_minor": 0,
  "metadata": {
    "colab": {
      "provenance": [],
      "authorship_tag": "ABX9TyN/ojGPhd00KtEbmqvaeCq+",
      "include_colab_link": true
    },
    "kernelspec": {
      "name": "python3",
      "display_name": "Python 3"
    },
    "language_info": {
      "name": "python"
    }
  },
  "cells": [
    {
      "cell_type": "markdown",
      "metadata": {
        "id": "view-in-github",
        "colab_type": "text"
      },
      "source": [
        "<a href=\"https://colab.research.google.com/github/elichen/aoc2024/blob/main/Day_22_Monkey_Market.ipynb\" target=\"_parent\"><img src=\"https://colab.research.google.com/assets/colab-badge.svg\" alt=\"Open In Colab\"/></a>"
      ]
    },
    {
      "cell_type": "code",
      "source": [
        "input = \"\"\"1\n",
        "2\n",
        "3\n",
        "2024\"\"\""
      ],
      "metadata": {
        "id": "CoQDZyGZT296"
      },
      "execution_count": 72,
      "outputs": []
    },
    {
      "cell_type": "code",
      "source": [
        "input = open(\"input.txt\").read()"
      ],
      "metadata": {
        "id": "7ShwtGBZUXjw"
      },
      "execution_count": 73,
      "outputs": []
    },
    {
      "cell_type": "code",
      "execution_count": 74,
      "metadata": {
        "colab": {
          "base_uri": "https://localhost:8080/"
        },
        "id": "a0sJDpJbTANT",
        "outputId": "f28e2977-ea89-45ca-a20c-3e0f787b70d4"
      },
      "outputs": [
        {
          "output_type": "execute_result",
          "data": {
            "text/plain": [
              "17577894908"
            ]
          },
          "metadata": {},
          "execution_count": 74
        }
      ],
      "source": [
        "def next_secret(x):\n",
        "  tmp = x * 64\n",
        "  x = (tmp ^ x) % 16777216\n",
        "  tmp = x // 32\n",
        "  x = (tmp ^ x) % 16777216\n",
        "  tmp = x * 2048\n",
        "  x = (tmp ^ x) % 16777216\n",
        "  return x\n",
        "\n",
        "total = 0\n",
        "numbers = [int(line) for line in input.splitlines()]\n",
        "for secret in numbers:\n",
        "  for i in range(2000):\n",
        "    secret = next_secret(secret)\n",
        "  total += secret\n",
        "total"
      ]
    },
    {
      "cell_type": "code",
      "source": [
        "def changes(x):\n",
        "  seq2price = {}\n",
        "  prev4 = []\n",
        "  for _ in range(2000):\n",
        "    next = next_secret(x)\n",
        "    price = next%10\n",
        "    change = (next%10)-(x%10)\n",
        "    prev4 = (prev4 + [change])[-4:]\n",
        "    if len(prev4) == 4:\n",
        "      seq2price.setdefault(tuple(prev4), price)\n",
        "    x = next\n",
        "  return seq2price\n",
        "\n",
        "prices = []\n",
        "seqs = set()\n",
        "for n in numbers:\n",
        "  price = changes(n)\n",
        "  prices.append(price)\n",
        "  seqs.update(set(price.keys()))\n",
        "\n",
        "max_bananas = 0\n",
        "for seq in seqs:\n",
        "  total_price = [x[seq] for x in prices if seq in x]\n",
        "  if sum(total_price) > max_bananas:\n",
        "    max_bananas = sum(total_price)\n",
        "max_bananas"
      ],
      "metadata": {
        "colab": {
          "base_uri": "https://localhost:8080/"
        },
        "id": "m6NqPf_oUbp_",
        "outputId": "8c88dcf3-0138-4894-b219-260291922b97"
      },
      "execution_count": 75,
      "outputs": [
        {
          "output_type": "execute_result",
          "data": {
            "text/plain": [
              "1931"
            ]
          },
          "metadata": {},
          "execution_count": 75
        }
      ]
    },
    {
      "cell_type": "code",
      "source": [],
      "metadata": {
        "id": "lYZHgWwfc-mJ"
      },
      "execution_count": 75,
      "outputs": []
    }
  ]
}