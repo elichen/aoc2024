{
  "nbformat": 4,
  "nbformat_minor": 0,
  "metadata": {
    "colab": {
      "provenance": [],
      "authorship_tag": "ABX9TyPMjHReprlA3ucAXYMuadjb",
      "include_colab_link": true
    },
    "kernelspec": {
      "name": "python3",
      "display_name": "Python 3"
    },
    "language_info": {
      "name": "python"
    }
  },
  "cells": [
    {
      "cell_type": "markdown",
      "metadata": {
        "id": "view-in-github",
        "colab_type": "text"
      },
      "source": [
        "<a href=\"https://colab.research.google.com/github/elichen/aoc2024/blob/main/Day_22_Monkey_Market.ipynb\" target=\"_parent\"><img src=\"https://colab.research.google.com/assets/colab-badge.svg\" alt=\"Open In Colab\"/></a>"
      ]
    },
    {
      "cell_type": "code",
      "source": [
        "input = \"\"\"1\n",
        "10\n",
        "100\n",
        "2024\"\"\""
      ],
      "metadata": {
        "id": "CoQDZyGZT296"
      },
      "execution_count": 5,
      "outputs": []
    },
    {
      "cell_type": "code",
      "source": [
        "input = open(\"input.txt\").read()"
      ],
      "metadata": {
        "id": "7ShwtGBZUXjw"
      },
      "execution_count": 8,
      "outputs": []
    },
    {
      "cell_type": "code",
      "execution_count": 9,
      "metadata": {
        "colab": {
          "base_uri": "https://localhost:8080/"
        },
        "id": "a0sJDpJbTANT",
        "outputId": "0948c6ea-3b6c-4975-bebd-8fba12ea820b"
      },
      "outputs": [
        {
          "output_type": "execute_result",
          "data": {
            "text/plain": [
              "17577894908"
            ]
          },
          "metadata": {},
          "execution_count": 9
        }
      ],
      "source": [
        "def next_secret(x):\n",
        "  tmp = x * 64\n",
        "  x = (tmp ^ x) % 16777216\n",
        "  tmp = x // 32\n",
        "  x = (tmp ^ x) % 16777216\n",
        "  tmp = x * 2048\n",
        "  x = (tmp ^ x) % 16777216\n",
        "  return x\n",
        "\n",
        "total = 0\n",
        "numbers = [int(line) for line in input.splitlines()]\n",
        "for secret in numbers:\n",
        "  for i in range(2000):\n",
        "    secret = next_secret(secret)\n",
        "  total += secret\n",
        "total"
      ]
    },
    {
      "cell_type": "code",
      "source": [],
      "metadata": {
        "id": "m6NqPf_oUbp_"
      },
      "execution_count": null,
      "outputs": []
    }
  ]
}