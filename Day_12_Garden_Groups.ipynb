{
  "nbformat": 4,
  "nbformat_minor": 0,
  "metadata": {
    "colab": {
      "provenance": [],
      "authorship_tag": "ABX9TyNqXg9r/NCy97RTQfj4bjP8",
      "include_colab_link": true
    },
    "kernelspec": {
      "name": "python3",
      "display_name": "Python 3"
    },
    "language_info": {
      "name": "python"
    }
  },
  "cells": [
    {
      "cell_type": "markdown",
      "metadata": {
        "id": "view-in-github",
        "colab_type": "text"
      },
      "source": [
        "<a href=\"https://colab.research.google.com/github/elichen/aoc2024/blob/main/Day_12_Garden_Groups.ipynb\" target=\"_parent\"><img src=\"https://colab.research.google.com/assets/colab-badge.svg\" alt=\"Open In Colab\"/></a>"
      ]
    },
    {
      "cell_type": "code",
      "execution_count": 55,
      "metadata": {
        "id": "6t2xt6QNl1IJ"
      },
      "outputs": [],
      "source": [
        "input = \"\"\"OOOOO\n",
        "OXOXO\n",
        "OOOOO\n",
        "OXOXO\n",
        "OOOOO\"\"\""
      ]
    },
    {
      "cell_type": "code",
      "source": [
        "input = open(\"input.txt\").read()"
      ],
      "metadata": {
        "id": "ezfR5HoFpfZw"
      },
      "execution_count": 56,
      "outputs": []
    },
    {
      "cell_type": "code",
      "source": [
        "def count_non_matching_sides(grid_str):\n",
        "    grid = [list(line) for line in grid_str.splitlines()]\n",
        "    rows, cols = len(grid), len(grid[0])\n",
        "    visited = set()\n",
        "    total = 0\n",
        "    directions = [(-1, 0), (1, 0), (0, -1), (0, 1)]\n",
        "\n",
        "    def bfs(start_r, start_c):\n",
        "        char = grid[start_r][start_c]\n",
        "        queue = [(start_r, start_c)]\n",
        "        component = set([(start_r, start_c)])\n",
        "        perimeter = 0\n",
        "\n",
        "        while queue:\n",
        "            r, c = queue.pop(0)\n",
        "\n",
        "            # Count non-matching sides\n",
        "            for dr, dc in directions:\n",
        "                new_r, new_c = r + dr, c + dc\n",
        "                if (new_r < 0 or new_r >= rows or\n",
        "                    new_c < 0 or new_c >= cols or\n",
        "                    grid[new_r][new_c] != char):\n",
        "                    perimeter += 1\n",
        "                elif (new_r, new_c) not in component:\n",
        "                    queue.append((new_r, new_c))\n",
        "                    component.add((new_r, new_c))\n",
        "\n",
        "        visited.update(component)\n",
        "        return {char: perimeter}, len(component)\n",
        "\n",
        "    # Process each unvisited cell\n",
        "    for r in range(rows):\n",
        "        for c in range(cols):\n",
        "            if (r, c) not in visited:\n",
        "                counts, freq = bfs(r, c)\n",
        "                # Multiply counts by frequency and add to total\n",
        "                total += sum(count * freq for count in counts.values())\n",
        "\n",
        "    return total\n",
        "\n",
        "count_non_matching_sides(input)"
      ],
      "metadata": {
        "colab": {
          "base_uri": "https://localhost:8080/"
        },
        "id": "vX-9qHEbmgYZ",
        "outputId": "39bd7dc8-0c44-4072-d776-7e0753a36cc6"
      },
      "execution_count": 57,
      "outputs": [
        {
          "output_type": "execute_result",
          "data": {
            "text/plain": [
              "1461806"
            ]
          },
          "metadata": {},
          "execution_count": 57
        }
      ]
    },
    {
      "cell_type": "code",
      "source": [
        "def count_non_matching_sides2(grid_str):\n",
        "    grid = [list(line) for line in grid_str.splitlines()]\n",
        "    rows, cols = len(grid), len(grid[0])\n",
        "    visited = set()\n",
        "    total = 0\n",
        "    directions = [(-1, 0, 'n'), (1, 0, 's'), (0, -1, 'w'), (0, 1, 'e')]\n",
        "\n",
        "    def bfs(start_r, start_c):\n",
        "        char = grid[start_r][start_c]\n",
        "        queue = [(start_r, start_c)]\n",
        "        component = set([(start_r, start_c)])\n",
        "        sides = []\n",
        "\n",
        "        while queue:\n",
        "            r, c = queue.pop(0)\n",
        "\n",
        "            for dr, dc, direction in directions:\n",
        "                new_r, new_c = r + dr, c + dc\n",
        "                if (new_r < 0 or new_r >= rows or\n",
        "                    new_c < 0 or new_c >= cols or\n",
        "                    grid[new_r][new_c] != char):\n",
        "                    sides.append((r, c, direction))\n",
        "                elif (new_r, new_c) not in component:\n",
        "                    queue.append((new_r, new_c))\n",
        "                    component.add((new_r, new_c))\n",
        "\n",
        "        visited.update(component)\n",
        "        return sides, len(component)\n",
        "\n",
        "    def merge_sides(sides):\n",
        "        # Group edges by direction\n",
        "        edges = {\n",
        "            'n': set(),  # (y, x1, x2)\n",
        "            's': set(),  # (y, x1, x2)\n",
        "            'w': set(),  # (x, y1, y2)\n",
        "            'e': set(),  # (x, y1, y2)\n",
        "        }\n",
        "\n",
        "        for r, c, direction in sides:\n",
        "            if direction == 'n':\n",
        "                edges['n'].add((r, c, c+1))\n",
        "            elif direction == 's':\n",
        "                edges['s'].add((r+1, c, c+1))\n",
        "            elif direction == 'w':\n",
        "                edges['w'].add((c, r, r+1))\n",
        "            else:  # 'e'\n",
        "                edges['e'].add((c+1, r, r+1))\n",
        "\n",
        "        def merge_ranges(edges):\n",
        "            if not edges:\n",
        "                return []\n",
        "            edges = sorted(edges)\n",
        "            merged = []\n",
        "            current = list(edges[0])\n",
        "\n",
        "            for edge in edges[1:]:\n",
        "                if edge[0] == current[0]:  # Same row/column\n",
        "                    if edge[1] == current[2]:  # Adjacent\n",
        "                        current[2] = edge[2]\n",
        "                    elif edge[1] > current[2]:  # Gap\n",
        "                        merged.append(tuple(current))\n",
        "                        current = list(edge)\n",
        "                else:  # Different row/column\n",
        "                    merged.append(tuple(current))\n",
        "                    current = list(edge)\n",
        "\n",
        "            merged.append(tuple(current))\n",
        "            return merged\n",
        "\n",
        "        merged_edges = []\n",
        "        for direction, edge_set in edges.items():\n",
        "            merged = merge_ranges(edge_set)\n",
        "            # print(f\"Merged {direction}:\", merged)\n",
        "            merged_edges.extend(merged)\n",
        "\n",
        "        return len(merged_edges)\n",
        "\n",
        "    # Process each unvisited cell\n",
        "    for r in range(rows):\n",
        "        for c in range(cols):\n",
        "            if (r, c) not in visited:\n",
        "                sides, component_size = bfs(r, c)\n",
        "                # print(\"\\nRaw sides from BFS:\", sides)\n",
        "                polygon_sides = merge_sides(sides)\n",
        "                # print(f\"Polygon sides count: {polygon_sides}\")\n",
        "                total += polygon_sides * component_size\n",
        "\n",
        "    return total\n",
        "\n",
        "count_non_matching_sides2(input)"
      ],
      "metadata": {
        "colab": {
          "base_uri": "https://localhost:8080/"
        },
        "id": "2X1iJ4vI6gP1",
        "outputId": "d7725795-a5b9-435a-d527-5cb6167918ef"
      },
      "execution_count": 59,
      "outputs": [
        {
          "output_type": "execute_result",
          "data": {
            "text/plain": [
              "887932"
            ]
          },
          "metadata": {},
          "execution_count": 59
        }
      ]
    }
  ]
}