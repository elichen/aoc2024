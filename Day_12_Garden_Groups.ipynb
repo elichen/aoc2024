{
  "nbformat": 4,
  "nbformat_minor": 0,
  "metadata": {
    "colab": {
      "provenance": [],
      "authorship_tag": "ABX9TyOwdRRnl1cpriAvbeKPPy20",
      "include_colab_link": true
    },
    "kernelspec": {
      "name": "python3",
      "display_name": "Python 3"
    },
    "language_info": {
      "name": "python"
    }
  },
  "cells": [
    {
      "cell_type": "markdown",
      "metadata": {
        "id": "view-in-github",
        "colab_type": "text"
      },
      "source": [
        "<a href=\"https://colab.research.google.com/github/elichen/aoc2024/blob/main/Day_12_Garden_Groups.ipynb\" target=\"_parent\"><img src=\"https://colab.research.google.com/assets/colab-badge.svg\" alt=\"Open In Colab\"/></a>"
      ]
    },
    {
      "cell_type": "code",
      "execution_count": 3,
      "metadata": {
        "id": "6t2xt6QNl1IJ"
      },
      "outputs": [],
      "source": [
        "input = \"\"\"OOOOO\n",
        "OXOXO\n",
        "OOOOO\n",
        "OXOXO\n",
        "OOOOO\"\"\""
      ]
    },
    {
      "cell_type": "code",
      "source": [
        "input = open(\"input.txt\").read()"
      ],
      "metadata": {
        "id": "ezfR5HoFpfZw"
      },
      "execution_count": 11,
      "outputs": []
    },
    {
      "cell_type": "code",
      "source": [
        "def count_non_matching_sides(grid_str):\n",
        "    grid = [list(line) for line in grid_str.splitlines()]\n",
        "    rows, cols = len(grid), len(grid[0])\n",
        "    visited = set()\n",
        "    total = 0\n",
        "    directions = [(-1, 0), (1, 0), (0, -1), (0, 1)]\n",
        "\n",
        "    def bfs(start_r, start_c):\n",
        "        char = grid[start_r][start_c]\n",
        "        queue = [(start_r, start_c)]\n",
        "        component = set([(start_r, start_c)])\n",
        "        perimeter = 0\n",
        "\n",
        "        while queue:\n",
        "            r, c = queue.pop(0)\n",
        "\n",
        "            # Count non-matching sides\n",
        "            for dr, dc in directions:\n",
        "                new_r, new_c = r + dr, c + dc\n",
        "                if (new_r < 0 or new_r >= rows or\n",
        "                    new_c < 0 or new_c >= cols or\n",
        "                    grid[new_r][new_c] != char):\n",
        "                    perimeter += 1\n",
        "                elif (new_r, new_c) not in component:\n",
        "                    queue.append((new_r, new_c))\n",
        "                    component.add((new_r, new_c))\n",
        "\n",
        "        visited.update(component)\n",
        "        return {char: perimeter}, len(component)\n",
        "\n",
        "    # Process each unvisited cell\n",
        "    for r in range(rows):\n",
        "        for c in range(cols):\n",
        "            if (r, c) not in visited:\n",
        "                counts, freq = bfs(r, c)\n",
        "                # Multiply counts by frequency and add to total\n",
        "                total += sum(count * freq for count in counts.values())\n",
        "\n",
        "    return total\n",
        "\n",
        "count_non_matching_sides(input)"
      ],
      "metadata": {
        "colab": {
          "base_uri": "https://localhost:8080/"
        },
        "id": "vX-9qHEbmgYZ",
        "outputId": "626ce110-51aa-44b1-823a-03cde517b110"
      },
      "execution_count": 12,
      "outputs": [
        {
          "output_type": "execute_result",
          "data": {
            "text/plain": [
              "1461806"
            ]
          },
          "metadata": {},
          "execution_count": 12
        }
      ]
    },
    {
      "cell_type": "code",
      "source": [],
      "metadata": {
        "id": "VtcoKwqwpjFU"
      },
      "execution_count": null,
      "outputs": []
    }
  ]
}