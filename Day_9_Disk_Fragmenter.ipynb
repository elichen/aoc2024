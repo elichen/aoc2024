{
  "cells": [
    {
      "cell_type": "markdown",
      "metadata": {
        "id": "view-in-github",
        "colab_type": "text"
      },
      "source": [
        "<a href=\"https://colab.research.google.com/github/elichen/aoc2024/blob/main/Day_9_Disk_Fragmenter.ipynb\" target=\"_parent\"><img src=\"https://colab.research.google.com/assets/colab-badge.svg\" alt=\"Open In Colab\"/></a>"
      ]
    },
    {
      "cell_type": "code",
      "execution_count": 1,
      "metadata": {
        "id": "QfKOAZesLr11"
      },
      "outputs": [],
      "source": [
        "input = \"2333133121414131402\""
      ]
    },
    {
      "cell_type": "code",
      "execution_count": 2,
      "metadata": {
        "id": "7xVXhQs7Rl4L"
      },
      "outputs": [],
      "source": [
        "input = open(\"input.txt\").read().rstrip()"
      ]
    },
    {
      "cell_type": "code",
      "execution_count": 3,
      "metadata": {
        "colab": {
          "base_uri": "https://localhost:8080/"
        },
        "id": "JMNFGRMAJz0d",
        "outputId": "7fbb372b-dcd4-41d0-cb25-11dc7a4be34e"
      },
      "outputs": [
        {
          "output_type": "stream",
          "name": "stdout",
          "text": [
            "[(0, 1), (2, 2), (1, 3), (2, 3)]\n",
            "[(0, 2), (9, 2), (8, 1), (1, 3), (8, 3), (2, 1), (7, 3), (3, 3), (6, 1), (4, 2), (6, 1), (5, 4), (6, 1), (6, 1)]\n"
          ]
        }
      ],
      "source": [
        "def fill_empty_sections(lengths):\n",
        "    # Convert from string if needed\n",
        "    if isinstance(lengths, str):\n",
        "        lengths = list(map(int, lengths))\n",
        "\n",
        "    # Build initial list of (id, length), alternating between non-empty and empty\n",
        "    result = []\n",
        "    next_id = 0\n",
        "    is_nonempty = True\n",
        "    for length in lengths:\n",
        "        section_id = next_id if is_nonempty else -1\n",
        "        result.append((section_id, length))\n",
        "        if is_nonempty:\n",
        "            next_id += 1\n",
        "        is_nonempty = not is_nonempty\n",
        "\n",
        "    i = 0\n",
        "    while i < len(result):\n",
        "        if result[i][0] == -1:\n",
        "            empty_len = result[i][1]\n",
        "            if empty_len == 0:\n",
        "                # Zero-length empty: remove it and continue\n",
        "                del result[i]\n",
        "                continue\n",
        "\n",
        "            # Check if we can fully fill this empty section from the trailing sections\n",
        "            # Calculate total available length from trailing non-empty sections\n",
        "            total_available = 0\n",
        "            for sec_id, sec_len in reversed(result[i+1:]):\n",
        "                if sec_id == -1:\n",
        "                    # Ignore trailing empty sections\n",
        "                    continue\n",
        "                total_available += sec_len\n",
        "                if total_available >= empty_len:\n",
        "                    break\n",
        "\n",
        "            if total_available < empty_len:\n",
        "                # Not enough to fill - just remove the empty section\n",
        "                del result[i]\n",
        "                # Don't advance i since we removed the section at i\n",
        "            else:\n",
        "                # We can fill it. Let's do the fill now.\n",
        "                to_fill = empty_len\n",
        "                fill_pieces = []\n",
        "\n",
        "                # We'll consume from the end towards the front\n",
        "                pos = len(result) - 1\n",
        "                while to_fill > 0 and pos > i:\n",
        "                    sec_id, sec_len = result[pos]\n",
        "                    if sec_id == -1:\n",
        "                        # Discard trailing empty sections\n",
        "                        del result[pos]\n",
        "                        pos -= 1\n",
        "                        continue\n",
        "                    if sec_len <= to_fill:\n",
        "                        # Use all of this section\n",
        "                        fill_pieces.append((sec_id, sec_len))\n",
        "                        to_fill -= sec_len\n",
        "                        del result[pos]\n",
        "                        pos -= 1\n",
        "                    else:\n",
        "                        # Use part of this section\n",
        "                        fill_pieces.append((sec_id, to_fill))\n",
        "                        remainder = sec_len - to_fill\n",
        "                        result[pos] = (sec_id, remainder)\n",
        "                        to_fill = 0\n",
        "\n",
        "                # IMPORTANT: Do NOT reverse fill_pieces here.\n",
        "                # Insert them in the order they were taken.\n",
        "                result[i:i+1] = fill_pieces\n",
        "                i += len(fill_pieces)\n",
        "\n",
        "        else:\n",
        "            i += 1\n",
        "\n",
        "    # Remove any trailing empty sections if any remain\n",
        "    while result and result[-1][0] == -1:\n",
        "        result.pop()\n",
        "\n",
        "    return result\n",
        "\n",
        "print(fill_empty_sections(\"12345\"))\n",
        "print(fill_empty_sections(\"2333133121414131402\"))"
      ]
    },
    {
      "cell_type": "code",
      "execution_count": 4,
      "metadata": {
        "colab": {
          "base_uri": "https://localhost:8080/"
        },
        "id": "am6HYwI4NgUH",
        "outputId": "dc7b1ce4-5062-48cd-b909-b4e689d8e079"
      },
      "outputs": [
        {
          "output_type": "execute_result",
          "data": {
            "text/plain": [
              "6337367222422"
            ]
          },
          "metadata": {},
          "execution_count": 4
        }
      ],
      "source": [
        "def weighted_id_sum(sections):\n",
        "    total = 0\n",
        "    current_start = 0\n",
        "    for sec_id, sec_length in sections:\n",
        "        # sum of i from current_start to current_start+sec_length-1\n",
        "        index_sum = sec_length * current_start + (sec_length * (sec_length - 1)) // 2\n",
        "        total += sec_id * index_sum\n",
        "        current_start += sec_length\n",
        "    return total\n",
        "\n",
        "weighted_id_sum(fill_empty_sections(input))"
      ]
    },
    {
      "cell_type": "code",
      "execution_count": 5,
      "metadata": {
        "colab": {
          "base_uri": "https://localhost:8080/"
        },
        "id": "vVxsHYg9R-VJ",
        "outputId": "70718ae4-a092-482d-9995-f54357495be2"
      },
      "outputs": [
        {
          "output_type": "stream",
          "name": "stdout",
          "text": [
            "[(0, 2, False), (9, 2, True), (2, 1, True), (1, 3, False), (7, 3, True), (-1, 1, False), (4, 2, True), (-1, 1, False), (3, 3, False), (-1, 1, False), (-1, 2, False), (-1, 1, False), (5, 4, False), (-1, 1, False), (6, 4, False), (-1, 1, False), (-1, 3, False), (-1, 1, False), (8, 4, False)]\n"
          ]
        }
      ],
      "source": [
        "def fill_empty_sections2(lengths):\n",
        "    # Convert input to list of integers if it's a string\n",
        "    if isinstance(lengths, str):\n",
        "        lengths = list(map(int, lengths))\n",
        "\n",
        "    # Build the initial list of (id, length, moved) tuples\n",
        "    result = []\n",
        "    next_id = 0\n",
        "    is_nonempty = True\n",
        "    for length in lengths:\n",
        "        sec_id = next_id if is_nonempty else -1\n",
        "        result.append((sec_id, length, False))\n",
        "        if is_nonempty:\n",
        "            next_id += 1\n",
        "        is_nonempty = not is_nonempty\n",
        "\n",
        "    # Process from right to left\n",
        "    i = len(result) - 1\n",
        "    while i >= 0:\n",
        "        # print(result)\n",
        "        sec_id, sec_len, moved_flag = result[i]\n",
        "        # Only consider non-empty, non-moved sections.\n",
        "        if sec_id != -1 and sec_len > 0 and not moved_flag:\n",
        "            # Find a suitable empty spot to the LEFT by scanning from the left (j=0) up to j<i\n",
        "            empty_idx = None\n",
        "            for j in range(0, i):\n",
        "                eid, elen, emoved = result[j]\n",
        "                if eid == -1 and elen >= sec_len:\n",
        "                    empty_idx = j\n",
        "                    break\n",
        "\n",
        "            if empty_idx is not None:\n",
        "                # Move this section into the found empty spot\n",
        "                moved_section_id, moved_section_len, _ = result[i]\n",
        "\n",
        "                # Replace the original location with an empty section of the same length\n",
        "                result[i] = (-1, moved_section_len, False)\n",
        "\n",
        "                # Place the moved section in the empty slot found\n",
        "                empty_id, empty_len, empty_moved = result[empty_idx]\n",
        "                result[empty_idx] = (moved_section_id, moved_section_len, True)\n",
        "\n",
        "                leftover = empty_len - moved_section_len\n",
        "                if leftover > 0:\n",
        "                    # Insert the leftover empty section after the placed section\n",
        "                    result.insert(empty_idx + 1, (-1, leftover, False))\n",
        "        i -= 1\n",
        "\n",
        "    # Remove trailing empty sections\n",
        "    while result and result[-1][0] == -1:\n",
        "        result.pop()\n",
        "\n",
        "    return result\n",
        "# Example usage:\n",
        "input_str = \"2333133121414131402\"\n",
        "final_result = fill_empty_sections2(input_str)\n",
        "print(final_result)"
      ]
    },
    {
      "cell_type": "code",
      "execution_count": 6,
      "metadata": {
        "colab": {
          "base_uri": "https://localhost:8080/"
        },
        "id": "-m3dPcvRVoJm",
        "outputId": "b7d4af28-ce2a-4dfe-c978-de746461b67a"
      },
      "outputs": [
        {
          "output_type": "execute_result",
          "data": {
            "text/plain": [
              "2858"
            ]
          },
          "metadata": {},
          "execution_count": 6
        }
      ],
      "source": [
        "def weighted_id_sum2(sections):\n",
        "    total = 0\n",
        "    current_start = 0\n",
        "    for sec_id, sec_length, sec_moved in sections:\n",
        "        if sec_id > 0:\n",
        "          index_sum = sec_length * current_start + (sec_length * (sec_length - 1)) // 2\n",
        "          total += sec_id * index_sum\n",
        "        current_start += sec_length\n",
        "    return total\n",
        "\n",
        "weighted_id_sum2(final_result)"
      ]
    },
    {
      "cell_type": "code",
      "execution_count": 7,
      "metadata": {
        "colab": {
          "base_uri": "https://localhost:8080/"
        },
        "id": "JQL13KJwYe7U",
        "outputId": "f4951594-47da-4c7a-bc52-71fb2a9ebf41"
      },
      "outputs": [
        {
          "output_type": "execute_result",
          "data": {
            "text/plain": [
              "6361380647183"
            ]
          },
          "metadata": {},
          "execution_count": 7
        }
      ],
      "source": [
        "weighted_id_sum2(fill_empty_sections2(input))"
      ]
    }
  ],
  "metadata": {
    "colab": {
      "provenance": [],
      "authorship_tag": "ABX9TyM3ksEbWhh+9Bt0eRI1x0LY",
      "include_colab_link": true
    },
    "kernelspec": {
      "display_name": "Python 3",
      "name": "python3"
    },
    "language_info": {
      "name": "python"
    }
  },
  "nbformat": 4,
  "nbformat_minor": 0
}