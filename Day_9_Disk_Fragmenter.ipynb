{
  "nbformat": 4,
  "nbformat_minor": 0,
  "metadata": {
    "colab": {
      "provenance": [],
      "authorship_tag": "ABX9TyNNr6zPKWMAqmh3sU8i4vlu",
      "include_colab_link": true
    },
    "kernelspec": {
      "name": "python3",
      "display_name": "Python 3"
    },
    "language_info": {
      "name": "python"
    }
  },
  "cells": [
    {
      "cell_type": "markdown",
      "metadata": {
        "id": "view-in-github",
        "colab_type": "text"
      },
      "source": [
        "<a href=\"https://colab.research.google.com/github/elichen/aoc2024/blob/main/Day_9_Disk_Fragmenter.ipynb\" target=\"_parent\"><img src=\"https://colab.research.google.com/assets/colab-badge.svg\" alt=\"Open In Colab\"/></a>"
      ]
    },
    {
      "cell_type": "code",
      "source": [
        "input = \"2333133121414131402\""
      ],
      "metadata": {
        "id": "QfKOAZesLr11"
      },
      "execution_count": 32,
      "outputs": []
    },
    {
      "cell_type": "code",
      "source": [
        "input = open(\"input.txt\").read().rstrip()"
      ],
      "metadata": {
        "id": "7xVXhQs7Rl4L"
      },
      "execution_count": 46,
      "outputs": []
    },
    {
      "cell_type": "code",
      "execution_count": 48,
      "metadata": {
        "colab": {
          "base_uri": "https://localhost:8080/"
        },
        "id": "JMNFGRMAJz0d",
        "outputId": "3cabee6b-2ecc-42a1-b4ac-fe078b383e5a"
      },
      "outputs": [
        {
          "output_type": "stream",
          "name": "stdout",
          "text": [
            "[(0, 1), (2, 2), (1, 3), (2, 3)]\n",
            "[(0, 2), (9, 2), (8, 1), (1, 3), (8, 3), (2, 1), (7, 3), (3, 3), (6, 1), (4, 2), (6, 1), (5, 4), (6, 1), (6, 1)]\n"
          ]
        }
      ],
      "source": [
        "def fill_empty_sections(lengths):\n",
        "    # Convert from string if needed\n",
        "    if isinstance(lengths, str):\n",
        "        lengths = list(map(int, lengths))\n",
        "\n",
        "    # Build initial list of (id, length), alternating between non-empty and empty\n",
        "    result = []\n",
        "    next_id = 0\n",
        "    is_nonempty = True\n",
        "    for length in lengths:\n",
        "        section_id = next_id if is_nonempty else -1\n",
        "        result.append((section_id, length))\n",
        "        if is_nonempty:\n",
        "            next_id += 1\n",
        "        is_nonempty = not is_nonempty\n",
        "\n",
        "    i = 0\n",
        "    while i < len(result):\n",
        "        if result[i][0] == -1:\n",
        "            empty_len = result[i][1]\n",
        "            if empty_len == 0:\n",
        "                # Zero-length empty: remove it and continue\n",
        "                del result[i]\n",
        "                continue\n",
        "\n",
        "            # Check if we can fully fill this empty section from the trailing sections\n",
        "            # Calculate total available length from trailing non-empty sections\n",
        "            total_available = 0\n",
        "            for sec_id, sec_len in reversed(result[i+1:]):\n",
        "                if sec_id == -1:\n",
        "                    # Ignore trailing empty sections\n",
        "                    continue\n",
        "                total_available += sec_len\n",
        "                if total_available >= empty_len:\n",
        "                    break\n",
        "\n",
        "            if total_available < empty_len:\n",
        "                # Not enough to fill - just remove the empty section\n",
        "                del result[i]\n",
        "                # Don't advance i since we removed the section at i\n",
        "            else:\n",
        "                # We can fill it. Let's do the fill now.\n",
        "                to_fill = empty_len\n",
        "                fill_pieces = []\n",
        "\n",
        "                # We'll consume from the end towards the front\n",
        "                pos = len(result) - 1\n",
        "                while to_fill > 0 and pos > i:\n",
        "                    sec_id, sec_len = result[pos]\n",
        "                    if sec_id == -1:\n",
        "                        # Discard trailing empty sections\n",
        "                        del result[pos]\n",
        "                        pos -= 1\n",
        "                        continue\n",
        "                    if sec_len <= to_fill:\n",
        "                        # Use all of this section\n",
        "                        fill_pieces.append((sec_id, sec_len))\n",
        "                        to_fill -= sec_len\n",
        "                        del result[pos]\n",
        "                        pos -= 1\n",
        "                    else:\n",
        "                        # Use part of this section\n",
        "                        fill_pieces.append((sec_id, to_fill))\n",
        "                        remainder = sec_len - to_fill\n",
        "                        result[pos] = (sec_id, remainder)\n",
        "                        to_fill = 0\n",
        "\n",
        "                # IMPORTANT: Do NOT reverse fill_pieces here.\n",
        "                # Insert them in the order they were taken.\n",
        "                result[i:i+1] = fill_pieces\n",
        "                i += len(fill_pieces)\n",
        "\n",
        "        else:\n",
        "            i += 1\n",
        "\n",
        "    # Remove any trailing empty sections if any remain\n",
        "    while result and result[-1][0] == -1:\n",
        "        result.pop()\n",
        "\n",
        "    return result\n",
        "\n",
        "print(fill_empty_sections(\"12345\"))\n",
        "print(fill_empty_sections(\"2333133121414131402\"))"
      ]
    },
    {
      "cell_type": "code",
      "source": [
        "def weighted_id_sum(sections):\n",
        "    total = 0\n",
        "    current_start = 0\n",
        "    for sec_id, sec_length in sections:\n",
        "        # sum of i from current_start to current_start+sec_length-1\n",
        "        index_sum = sec_length * current_start + (sec_length * (sec_length - 1)) // 2\n",
        "        total += sec_id * index_sum\n",
        "        current_start += sec_length\n",
        "    return total\n",
        "\n",
        "weighted_id_sum(fill_empty_sections(input))"
      ],
      "metadata": {
        "colab": {
          "base_uri": "https://localhost:8080/"
        },
        "id": "am6HYwI4NgUH",
        "outputId": "8f2171e5-6210-477c-a8e2-d4c0d4a99d46"
      },
      "execution_count": 49,
      "outputs": [
        {
          "output_type": "execute_result",
          "data": {
            "text/plain": [
              "6337367222422"
            ]
          },
          "metadata": {},
          "execution_count": 49
        }
      ]
    },
    {
      "cell_type": "code",
      "source": [],
      "metadata": {
        "id": "vVxsHYg9R-VJ"
      },
      "execution_count": null,
      "outputs": []
    }
  ]
}