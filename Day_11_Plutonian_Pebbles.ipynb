{
  "nbformat": 4,
  "nbformat_minor": 0,
  "metadata": {
    "colab": {
      "provenance": [],
      "authorship_tag": "ABX9TyNn1lxyM5qzfo4uM4Ev3lK9",
      "include_colab_link": true
    },
    "kernelspec": {
      "name": "python3",
      "display_name": "Python 3"
    },
    "language_info": {
      "name": "python"
    }
  },
  "cells": [
    {
      "cell_type": "markdown",
      "metadata": {
        "id": "view-in-github",
        "colab_type": "text"
      },
      "source": [
        "<a href=\"https://colab.research.google.com/github/elichen/aoc2024/blob/main/Day_11_Plutonian_Pebbles.ipynb\" target=\"_parent\"><img src=\"https://colab.research.google.com/assets/colab-badge.svg\" alt=\"Open In Colab\"/></a>"
      ]
    },
    {
      "cell_type": "code",
      "execution_count": 11,
      "metadata": {
        "colab": {
          "base_uri": "https://localhost:8080/"
        },
        "id": "0vsWdkkyFhU2",
        "outputId": "9c10d5c0-b72b-467d-aeaf-1328e622bc2a"
      },
      "outputs": [
        {
          "output_type": "execute_result",
          "data": {
            "text/plain": [
              "197357"
            ]
          },
          "metadata": {},
          "execution_count": 11
        }
      ],
      "source": [
        "def transform_numbers(input_str, rounds):\n",
        "    # Parse input string into list of integers\n",
        "    numbers = list(map(int, input_str.split()))\n",
        "\n",
        "    for _ in range(rounds):\n",
        "        new_numbers = []\n",
        "        for num in numbers:\n",
        "            if num == 0:\n",
        "                new_numbers.append(1)\n",
        "            else:\n",
        "                # Convert number to string to count digits\n",
        "                num_str = str(num)\n",
        "                if len(num_str) % 2 == 0:  # Even number of digits\n",
        "                    mid = len(num_str) // 2\n",
        "                    left = int(num_str[:mid])\n",
        "                    right = int(num_str[mid:])\n",
        "                    new_numbers.extend([left, right])\n",
        "                else:  # Odd number of digits\n",
        "                    new_numbers.append(num * 2024)\n",
        "\n",
        "        numbers = new_numbers\n",
        "\n",
        "    return numbers\n",
        "\n",
        "input_str = \"4610211 4 0 59 3907 201586 929 33750\"\n",
        "res = transform_numbers(input_str, 25)\n",
        "len(res)"
      ]
    },
    {
      "cell_type": "code",
      "source": [
        "def transform_numbers2(input_str, rounds):\n",
        "    # Parse input string into list of integers\n",
        "    numbers = list(map(int, input_str.split()))\n",
        "\n",
        "    for i in range(rounds):\n",
        "        print(i, len(numbers))\n",
        "        new_numbers = []\n",
        "        for num in numbers:\n",
        "            if num == 0:\n",
        "                new_numbers.append(1)\n",
        "            else:\n",
        "                # Convert number to string to count digits\n",
        "                num_str = str(num)\n",
        "                if len(num_str) % 2 == 0:  # Even number of digits\n",
        "                    mid = len(num_str) // 2\n",
        "                    left = int(num_str[:mid])\n",
        "                    right = int(num_str[mid:])\n",
        "                    new_numbers.extend([left, right])\n",
        "                else:  # Odd number of digits\n",
        "                    new_numbers.append(num * 2024)\n",
        "\n",
        "        numbers = new_numbers\n",
        "\n",
        "    return numbers\n",
        "\n",
        "res = transform_numbers2(input_str, 75)\n",
        "len(res)"
      ],
      "metadata": {
        "colab": {
          "base_uri": "https://localhost:8080/"
        },
        "id": "ePMh57Z7Ha1i",
        "outputId": "4d8d1279-ec6a-4c92-c971-2b095fa5c9dd"
      },
      "execution_count": null,
      "outputs": [
        {
          "output_type": "stream",
          "name": "stdout",
          "text": [
            "0 8\n",
            "1 11\n",
            "2 15\n",
            "3 21\n",
            "4 30\n",
            "5 45\n",
            "6 80\n",
            "7 116\n",
            "8 163\n",
            "9 243\n",
            "10 375\n",
            "11 582\n",
            "12 887\n",
            "13 1303\n",
            "14 1957\n",
            "15 3018\n",
            "16 4615\n",
            "17 7086\n",
            "18 10454\n",
            "19 15811\n",
            "20 24454\n",
            "21 37090\n",
            "22 56374\n",
            "23 84820\n",
            "24 129070\n",
            "25 197357\n",
            "26 298189\n",
            "27 454327\n",
            "28 688948\n",
            "29 1043353\n",
            "30 1591642\n",
            "31 2413630\n",
            "32 3668643\n",
            "33 5570004\n",
            "34 8443109\n",
            "35 12865828\n",
            "36 19513856\n",
            "37 29626821\n",
            "38 45056205\n"
          ]
        }
      ]
    }
  ]
}