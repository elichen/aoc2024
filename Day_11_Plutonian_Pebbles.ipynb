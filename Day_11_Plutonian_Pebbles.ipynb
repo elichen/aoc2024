{
  "nbformat": 4,
  "nbformat_minor": 0,
  "metadata": {
    "colab": {
      "provenance": [],
      "authorship_tag": "ABX9TyPp2A0YdEdQsVmNaQJi4pm/",
      "include_colab_link": true
    },
    "kernelspec": {
      "name": "python3",
      "display_name": "Python 3"
    },
    "language_info": {
      "name": "python"
    }
  },
  "cells": [
    {
      "cell_type": "markdown",
      "metadata": {
        "id": "view-in-github",
        "colab_type": "text"
      },
      "source": [
        "<a href=\"https://colab.research.google.com/github/elichen/aoc2024/blob/main/Day_11_Plutonian_Pebbles.ipynb\" target=\"_parent\"><img src=\"https://colab.research.google.com/assets/colab-badge.svg\" alt=\"Open In Colab\"/></a>"
      ]
    },
    {
      "cell_type": "code",
      "execution_count": 19,
      "metadata": {
        "colab": {
          "base_uri": "https://localhost:8080/"
        },
        "id": "0vsWdkkyFhU2",
        "outputId": "5f77238f-1f2b-4374-912c-8145353a19f7"
      },
      "outputs": [
        {
          "output_type": "execute_result",
          "data": {
            "text/plain": [
              "197357"
            ]
          },
          "metadata": {},
          "execution_count": 19
        }
      ],
      "source": [
        "def transform_numbers(input_str, rounds):\n",
        "    # Parse input string into list of integers\n",
        "    numbers = list(map(int, input_str.split()))\n",
        "\n",
        "    for _ in range(rounds):\n",
        "        new_numbers = []\n",
        "        for num in numbers:\n",
        "            if num == 0:\n",
        "                new_numbers.append(1)\n",
        "            else:\n",
        "                # Convert number to string to count digits\n",
        "                num_str = str(num)\n",
        "                if len(num_str) % 2 == 0:  # Even number of digits\n",
        "                    mid = len(num_str) // 2\n",
        "                    left = int(num_str[:mid])\n",
        "                    right = int(num_str[mid:])\n",
        "                    new_numbers.extend([left, right])\n",
        "                else:  # Odd number of digits\n",
        "                    new_numbers.append(num * 2024)\n",
        "\n",
        "        numbers = new_numbers\n",
        "\n",
        "    return numbers\n",
        "\n",
        "input = \"4610211 4 0 59 3907 201586 929 33750\"\n",
        "res = transform_numbers(input, 25)\n",
        "len(res)"
      ]
    },
    {
      "cell_type": "code",
      "source": [
        "from collections import Counter\n",
        "from functools import lru_cache\n",
        "\n",
        "# Global cache for transform results\n",
        "transform_cache = {}\n",
        "\n",
        "def transform_numbers2(num):\n",
        "    \"\"\"Transform a single number and return Counter of results\"\"\"\n",
        "    # Check cache first\n",
        "    if num in transform_cache:\n",
        "        return transform_cache[num]\n",
        "\n",
        "    result = Counter()\n",
        "\n",
        "    if num == 0:\n",
        "        result[1] += 1\n",
        "    else:\n",
        "        num_str = str(num)\n",
        "        if len(num_str) % 2 == 0:\n",
        "            mid = len(num_str) // 2\n",
        "            left = int(num_str[:mid])\n",
        "            right = int(num_str[mid:])\n",
        "            result[left] += 1\n",
        "            result[right] += 1\n",
        "        else:\n",
        "            transformed = (num << 11) - (num << 4) - (num << 3)  # x 2024\n",
        "            result[transformed] += 1\n",
        "\n",
        "    # Cache the result\n",
        "    transform_cache[num] = result\n",
        "    return result\n",
        "\n",
        "def process_rounds(input_str, rounds):\n",
        "    \"\"\"Process multiple rounds using Counter\"\"\"\n",
        "    # Initialize with input numbers\n",
        "    working_buf = Counter(map(int, input_str.split()))\n",
        "\n",
        "    for r in range(rounds):\n",
        "        new_buf = Counter()\n",
        "        # Process each number in current buffer\n",
        "        for num, count in working_buf.items():\n",
        "            # Get transformation for this number\n",
        "            transformed = transform_numbers2(num)\n",
        "            # Add to new buffer, multiplying by count\n",
        "            for key, val in transformed.items():\n",
        "                new_buf[key] += val * count\n",
        "        working_buf = new_buf\n",
        "\n",
        "        # Optional: print stats for this round\n",
        "        print(f\"Round {r+1}: {len(working_buf)} unique numbers, {sum(working_buf.values())} total\")\n",
        "\n",
        "process_rounds(input, 75)"
      ],
      "metadata": {
        "colab": {
          "base_uri": "https://localhost:8080/"
        },
        "id": "ePMh57Z7Ha1i",
        "outputId": "065744e0-a7e8-4c53-e58f-a7351d44af31"
      },
      "execution_count": 22,
      "outputs": [
        {
          "output_type": "stream",
          "name": "stdout",
          "text": [
            "Round 1: 11 unique numbers, 11 total\n",
            "Round 2: 15 unique numbers, 15 total\n",
            "Round 3: 21 unique numbers, 21 total\n",
            "Round 4: 28 unique numbers, 30 total\n",
            "Round 5: 41 unique numbers, 45 total\n",
            "Round 6: 54 unique numbers, 80 total\n",
            "Round 7: 53 unique numbers, 116 total\n",
            "Round 8: 61 unique numbers, 163 total\n",
            "Round 9: 72 unique numbers, 243 total\n",
            "Round 10: 86 unique numbers, 375 total\n",
            "Round 11: 100 unique numbers, 582 total\n",
            "Round 12: 112 unique numbers, 887 total\n",
            "Round 13: 113 unique numbers, 1303 total\n",
            "Round 14: 123 unique numbers, 1957 total\n",
            "Round 15: 140 unique numbers, 3018 total\n",
            "Round 16: 158 unique numbers, 4615 total\n",
            "Round 17: 191 unique numbers, 7086 total\n",
            "Round 18: 220 unique numbers, 10454 total\n",
            "Round 19: 238 unique numbers, 15811 total\n",
            "Round 20: 274 unique numbers, 24454 total\n",
            "Round 21: 310 unique numbers, 37090 total\n",
            "Round 22: 354 unique numbers, 56374 total\n",
            "Round 23: 360 unique numbers, 84820 total\n",
            "Round 24: 412 unique numbers, 129070 total\n",
            "Round 25: 432 unique numbers, 197357 total\n",
            "Round 26: 506 unique numbers, 298189 total\n",
            "Round 27: 546 unique numbers, 454327 total\n",
            "Round 28: 639 unique numbers, 688948 total\n",
            "Round 29: 713 unique numbers, 1043353 total\n",
            "Round 30: 788 unique numbers, 1591642 total\n",
            "Round 31: 878 unique numbers, 2413630 total\n",
            "Round 32: 954 unique numbers, 3668643 total\n",
            "Round 33: 1071 unique numbers, 5570004 total\n",
            "Round 34: 1177 unique numbers, 8443109 total\n",
            "Round 35: 1312 unique numbers, 12865828 total\n",
            "Round 36: 1407 unique numbers, 19513856 total\n",
            "Round 37: 1538 unique numbers, 29626821 total\n",
            "Round 38: 1654 unique numbers, 45056205 total\n",
            "Round 39: 1770 unique numbers, 68325641 total\n",
            "Round 40: 1909 unique numbers, 103919948 total\n",
            "Round 41: 2021 unique numbers, 157792657 total\n",
            "Round 42: 2162 unique numbers, 239558595 total\n",
            "Round 43: 2294 unique numbers, 364227505 total\n",
            "Round 44: 2390 unique numbers, 552576311 total\n",
            "Round 45: 2522 unique numbers, 839919525 total\n",
            "Round 46: 2623 unique numbers, 1276045084 total\n",
            "Round 47: 2740 unique numbers, 1936768376 total\n",
            "Round 48: 2826 unique numbers, 2943980281 total\n",
            "Round 49: 2897 unique numbers, 4469383139 total\n",
            "Round 50: 2980 unique numbers, 6789664325 total\n",
            "Round 51: 3080 unique numbers, 10316105876 total\n",
            "Round 52: 3160 unique numbers, 15660681393 total\n",
            "Round 53: 3245 unique numbers, 23799168937 total\n",
            "Round 54: 3298 unique numbers, 36141143724 total\n",
            "Round 55: 3372 unique numbers, 54889357751 total\n",
            "Round 56: 3419 unique numbers, 83402566042 total\n",
            "Round 57: 3463 unique numbers, 126634927820 total\n",
            "Round 58: 3521 unique numbers, 192390729321 total\n",
            "Round 59: 3555 unique numbers, 292224196022 total\n",
            "Round 60: 3579 unique numbers, 443791853815 total\n",
            "Round 61: 3614 unique numbers, 674264979227 total\n",
            "Round 62: 3650 unique numbers, 1023931736610 total\n",
            "Round 63: 3662 unique numbers, 1555389858630 total\n",
            "Round 64: 3691 unique numbers, 2362718571160 total\n",
            "Round 65: 3700 unique numbers, 3588179130170 total\n",
            "Round 66: 3719 unique numbers, 5451100311965 total\n",
            "Round 67: 3729 unique numbers, 8279059645629 total\n",
            "Round 68: 3738 unique numbers, 12575096010149 total\n",
            "Round 69: 3754 unique numbers, 19102483711247 total\n",
            "Round 70: 3757 unique numbers, 29011665113120 total\n",
            "Round 71: 3766 unique numbers, 44070642664993 total\n",
            "Round 72: 3766 unique numbers, 66938593656890 total\n",
            "Round 73: 3780 unique numbers, 101669761432126 total\n",
            "Round 74: 3788 unique numbers, 154441952317552 total\n",
            "Round 75: 3789 unique numbers, 234568186890978 total\n"
          ]
        }
      ]
    }
  ]
}