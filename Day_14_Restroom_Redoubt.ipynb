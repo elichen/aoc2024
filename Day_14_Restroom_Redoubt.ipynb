{
  "nbformat": 4,
  "nbformat_minor": 0,
  "metadata": {
    "colab": {
      "provenance": [],
      "authorship_tag": "ABX9TyNaUCXU/3fnHzhbfxORigtt",
      "include_colab_link": true
    },
    "kernelspec": {
      "name": "python3",
      "display_name": "Python 3"
    },
    "language_info": {
      "name": "python"
    }
  },
  "cells": [
    {
      "cell_type": "markdown",
      "metadata": {
        "id": "view-in-github",
        "colab_type": "text"
      },
      "source": [
        "<a href=\"https://colab.research.google.com/github/elichen/aoc2024/blob/main/Day_14_Restroom_Redoubt.ipynb\" target=\"_parent\"><img src=\"https://colab.research.google.com/assets/colab-badge.svg\" alt=\"Open In Colab\"/></a>"
      ]
    },
    {
      "cell_type": "code",
      "execution_count": null,
      "metadata": {
        "id": "ILeJoTeG80ee"
      },
      "outputs": [],
      "source": [
        "input = \"\"\"p=0,4 v=3,-3\n",
        "p=6,3 v=-1,-3\n",
        "p=10,3 v=-1,2\n",
        "p=2,0 v=2,-1\n",
        "p=0,0 v=1,3\n",
        "p=3,0 v=-2,-2\n",
        "p=7,6 v=-1,-3\n",
        "p=3,0 v=-1,-2\n",
        "p=9,3 v=2,3\n",
        "p=7,3 v=-1,2\n",
        "p=2,4 v=2,-3\n",
        "p=9,5 v=-3,-3\"\"\""
      ]
    },
    {
      "cell_type": "code",
      "source": [
        "input = open(\"input.txt\").read().rstrip()"
      ],
      "metadata": {
        "id": "ctqb-y8J-urk"
      },
      "execution_count": 17,
      "outputs": []
    },
    {
      "cell_type": "code",
      "source": [
        "def simulate_bots(input_str: str, width: int, height: int, steps: int) -> list[list[int]]:\n",
        "    # Parse input and create initial map\n",
        "    map_grid = [[0] * width for _ in range(height)]\n",
        "    bots = []\n",
        "\n",
        "    # Parse each line into position and velocity\n",
        "    for line in input_str.split('\\n'):\n",
        "        p_str, v_str = line.split()\n",
        "        px, py = map(int, p_str[2:].split(','))\n",
        "        vx, vy = map(int, v_str[2:].split(','))\n",
        "        bots.append([(px, py), (vx, vy)])\n",
        "        map_grid[py][px] += 1\n",
        "\n",
        "    # Simulate steps\n",
        "    for _ in range(steps):\n",
        "        # Clear current map\n",
        "        map_grid = [[0] * width for _ in range(height)]\n",
        "\n",
        "        # Update each bot position\n",
        "        for bot in bots:\n",
        "            pos, vel = bot\n",
        "            # Calculate new position with wrapping\n",
        "            new_x = (pos[0] + vel[0]) % width\n",
        "            new_y = (pos[1] + vel[1]) % height\n",
        "            # Update bot position\n",
        "            bot[0] = (new_x, new_y)\n",
        "            # Update map count\n",
        "            map_grid[new_y][new_x] += 1\n",
        "\n",
        "    return map_grid\n",
        "\n",
        "def print_map(map_grid: list[list[int]]) -> None:\n",
        "    for row in map_grid:\n",
        "        # Replace 0 with '.' and other numbers with their value\n",
        "        print(''.join('.' if cell == 0 else str(cell) for cell in row))\n",
        "\n",
        "result = simulate_bots(input, 101, 103, 100)"
      ],
      "metadata": {
        "id": "O70s4zvA90Uy"
      },
      "execution_count": 18,
      "outputs": []
    },
    {
      "cell_type": "code",
      "source": [
        "def count_quadrants(map_grid: list[list[int]]) -> list[int]:\n",
        "    height = len(map_grid)\n",
        "    width = len(map_grid[0])\n",
        "    mid_y = height // 2\n",
        "    mid_x = width // 2\n",
        "\n",
        "    quadrants = [0] * 4  # [top-right, top-left, bottom-left, bottom-right]\n",
        "\n",
        "    for y in range(height):\n",
        "        for x in range(width):\n",
        "            # Skip if no bots or if on middle lines\n",
        "            if map_grid[y][x] == 0 or x == mid_x or y == mid_y:\n",
        "                continue\n",
        "\n",
        "            bots = map_grid[y][x]\n",
        "\n",
        "            # Top right\n",
        "            if x > mid_x and y < mid_y:\n",
        "                quadrants[0] += bots\n",
        "            # Top left\n",
        "            elif x < mid_x and y < mid_y:\n",
        "                quadrants[1] += bots\n",
        "            # Bottom left\n",
        "            elif x < mid_x and y > mid_y:\n",
        "                quadrants[2] += bots\n",
        "            # Bottom right\n",
        "            elif x > mid_x and y > mid_y:\n",
        "                quadrants[3] += bots\n",
        "\n",
        "    return quadrants\n",
        "\n",
        "quadrant_counts = count_quadrants(result)"
      ],
      "metadata": {
        "id": "1hDtwUDC-aSI"
      },
      "execution_count": 19,
      "outputs": []
    },
    {
      "cell_type": "code",
      "source": [
        "from math import prod\n",
        "prod(quadrant_counts)"
      ],
      "metadata": {
        "colab": {
          "base_uri": "https://localhost:8080/"
        },
        "id": "KS03F4Ek-n_f",
        "outputId": "4d2eca82-39ce-4c06-f1b8-5e3bc9f9ee68"
      },
      "execution_count": 20,
      "outputs": [
        {
          "output_type": "execute_result",
          "data": {
            "text/plain": [
              "224438715"
            ]
          },
          "metadata": {},
          "execution_count": 20
        }
      ]
    }
  ]
}