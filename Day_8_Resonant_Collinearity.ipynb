{
  "nbformat": 4,
  "nbformat_minor": 0,
  "metadata": {
    "colab": {
      "provenance": [],
      "authorship_tag": "ABX9TyOxUDK8s4HkK+CMR53a/vWi",
      "include_colab_link": true
    },
    "kernelspec": {
      "name": "python3",
      "display_name": "Python 3"
    },
    "language_info": {
      "name": "python"
    }
  },
  "cells": [
    {
      "cell_type": "markdown",
      "metadata": {
        "id": "view-in-github",
        "colab_type": "text"
      },
      "source": [
        "<a href=\"https://colab.research.google.com/github/elichen/aoc2024/blob/main/Day_8_Resonant_Collinearity.ipynb\" target=\"_parent\"><img src=\"https://colab.research.google.com/assets/colab-badge.svg\" alt=\"Open In Colab\"/></a>"
      ]
    },
    {
      "cell_type": "code",
      "execution_count": 1,
      "metadata": {
        "id": "9A2uKTViuZSN"
      },
      "outputs": [],
      "source": [
        "input = \"\"\"............\n",
        "........0...\n",
        ".....0......\n",
        ".......0....\n",
        "....0.......\n",
        "......A.....\n",
        "............\n",
        "............\n",
        "........A...\n",
        ".........A..\n",
        "............\n",
        "............\"\"\""
      ]
    },
    {
      "cell_type": "code",
      "source": [
        "input = open(\"input.txt\").read()"
      ],
      "metadata": {
        "id": "QwqfEwDczCSm"
      },
      "execution_count": 15,
      "outputs": []
    },
    {
      "cell_type": "code",
      "source": [
        "def count_unique_positions(grid):\n",
        "    # Parse the grid into a list of (character, position) tuples\n",
        "    char_positions = []\n",
        "    rows = grid.strip().split(\"\\n\")\n",
        "\n",
        "    for y, row in enumerate(rows):\n",
        "        for x, char in enumerate(row):\n",
        "            if char != \".\":\n",
        "                char_positions.append((char, (x, y)))\n",
        "\n",
        "    total = 0\n",
        "\n",
        "    # Helper function to calculate the double position\n",
        "    def get_double_position(pos1, pos2):\n",
        "        return (2 * pos2[0] - pos1[0], 2 * pos2[1] - pos1[1])\n",
        "\n",
        "    # Check all positions on the grid\n",
        "    for y in range(len(rows)):\n",
        "        for x in range(len(rows[0])):\n",
        "            pos1 = (x, y)\n",
        "            unique_match_found = False\n",
        "            for char2, pos2 in char_positions:\n",
        "                if unique_match_found:\n",
        "                    break\n",
        "                if pos1 == pos2:\n",
        "                    continue\n",
        "                # Calculate the double position\n",
        "                double_pos = get_double_position(pos1, pos2)\n",
        "\n",
        "                # Check if the double position is within bounds and contains the same character\n",
        "                if 0 <= double_pos[0] < len(rows[0]) and 0 <= double_pos[1] < len(rows):\n",
        "                    double_char = rows[double_pos[1]][double_pos[0]]\n",
        "                    if double_char == char2:\n",
        "                        total += 1\n",
        "                        unique_match_found = True\n",
        "\n",
        "    return total\n",
        "\n",
        "count_unique_positions(input)"
      ],
      "metadata": {
        "colab": {
          "base_uri": "https://localhost:8080/"
        },
        "id": "j0XFRL-TudMu",
        "outputId": "2d124632-f50e-4ad2-f9a0-c51bc24ca0a9"
      },
      "execution_count": 16,
      "outputs": [
        {
          "output_type": "execute_result",
          "data": {
            "text/plain": [
              "273"
            ]
          },
          "metadata": {},
          "execution_count": 16
        }
      ]
    },
    {
      "cell_type": "code",
      "source": [],
      "metadata": {
        "id": "IV-Ap-FizDyr"
      },
      "execution_count": null,
      "outputs": []
    }
  ]
}