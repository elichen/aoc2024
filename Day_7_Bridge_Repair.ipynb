{
  "nbformat": 4,
  "nbformat_minor": 0,
  "metadata": {
    "colab": {
      "provenance": [],
      "authorship_tag": "ABX9TyOsnNl0LRP85F6SYOEwPKZI",
      "include_colab_link": true
    },
    "kernelspec": {
      "name": "python3",
      "display_name": "Python 3"
    },
    "language_info": {
      "name": "python"
    }
  },
  "cells": [
    {
      "cell_type": "markdown",
      "metadata": {
        "id": "view-in-github",
        "colab_type": "text"
      },
      "source": [
        "<a href=\"https://colab.research.google.com/github/elichen/aoc2024/blob/main/Day_7_Bridge_Repair.ipynb\" target=\"_parent\"><img src=\"https://colab.research.google.com/assets/colab-badge.svg\" alt=\"Open In Colab\"/></a>"
      ]
    },
    {
      "cell_type": "code",
      "execution_count": 8,
      "metadata": {
        "id": "SXk5ItkhKCwt"
      },
      "outputs": [],
      "source": [
        "input = \"\"\"190: 10 19\n",
        "3267: 81 40 27\n",
        "83: 17 5\n",
        "156: 15 6\n",
        "7290: 6 8 6 15\n",
        "161011: 16 10 13\n",
        "192: 17 8 14\n",
        "21037: 9 7 18 13\n",
        "292: 11 6 16 20\"\"\""
      ]
    },
    {
      "cell_type": "code",
      "source": [
        "input = open(\"input.txt\").read()"
      ],
      "metadata": {
        "id": "GboADLtpLFgN"
      },
      "execution_count": 9,
      "outputs": []
    },
    {
      "cell_type": "code",
      "source": [
        "def calculate_running_total(data):\n",
        "    running_total = 0\n",
        "\n",
        "    for line in data.splitlines():\n",
        "        left, right = line.split(\":\")\n",
        "        target = int(left.strip())\n",
        "        numbers = list(map(int, right.split()))\n",
        "\n",
        "        # Initialize the set with the first number\n",
        "        sums = {numbers[0]}\n",
        "\n",
        "        # Process numbers left-to-right\n",
        "        for num in numbers[1:]:\n",
        "            new_sums = set()\n",
        "            for s in sums:\n",
        "                new_sums.add(s + num)  # Add operation\n",
        "                new_sums.add(s * num)  # Multiply operation\n",
        "            sums = new_sums\n",
        "\n",
        "        # Check if target is in the final set\n",
        "        if target in sums:\n",
        "            running_total += target\n",
        "\n",
        "    return running_total\n",
        "\n",
        "calculate_running_total(input)"
      ],
      "metadata": {
        "colab": {
          "base_uri": "https://localhost:8080/"
        },
        "id": "pA1SDYauKIF6",
        "outputId": "45112a89-2ec8-498d-f216-b30d670944ef"
      },
      "execution_count": 10,
      "outputs": [
        {
          "output_type": "execute_result",
          "data": {
            "text/plain": [
              "8401132154762"
            ]
          },
          "metadata": {},
          "execution_count": 10
        }
      ]
    },
    {
      "cell_type": "code",
      "source": [
        "def calculate_running_total2(data):\n",
        "    running_total = 0\n",
        "\n",
        "    for line in data.splitlines():\n",
        "        left, right = line.split(\":\")\n",
        "        target = int(left.strip())\n",
        "        numbers = list(map(int, right.split()))\n",
        "\n",
        "        # Initialize the set with the first number\n",
        "        sums = {numbers[0]}\n",
        "\n",
        "        # Process numbers left-to-right\n",
        "        for num in numbers[1:]:\n",
        "            new_sums = set()\n",
        "            for s in sums:\n",
        "                new_sums.add(s + num)  # Add operation\n",
        "                new_sums.add(s * num)  # Multiply operation\n",
        "                # Concatenate operation\n",
        "                new_sums.add(int(f\"{s}{num}\"))\n",
        "            sums = new_sums\n",
        "\n",
        "        # Check if target is in the final set\n",
        "        if target in sums:\n",
        "            running_total += target\n",
        "\n",
        "    return running_total\n",
        "\n",
        "calculate_running_total2(input)"
      ],
      "metadata": {
        "colab": {
          "base_uri": "https://localhost:8080/"
        },
        "id": "8mEQ_Q4cLH5Q",
        "outputId": "88bc948d-c21d-401d-cce1-bef0d2fe5216"
      },
      "execution_count": 11,
      "outputs": [
        {
          "output_type": "execute_result",
          "data": {
            "text/plain": [
              "95297119227552"
            ]
          },
          "metadata": {},
          "execution_count": 11
        }
      ]
    }
  ]
}