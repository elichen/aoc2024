{
  "nbformat": 4,
  "nbformat_minor": 0,
  "metadata": {
    "colab": {
      "provenance": [],
      "authorship_tag": "ABX9TyOF1P6T2Eb++eXUaBkLOqgD",
      "include_colab_link": true
    },
    "kernelspec": {
      "name": "python3",
      "display_name": "Python 3"
    },
    "language_info": {
      "name": "python"
    }
  },
  "cells": [
    {
      "cell_type": "markdown",
      "metadata": {
        "id": "view-in-github",
        "colab_type": "text"
      },
      "source": [
        "<a href=\"https://colab.research.google.com/github/elichen/aoc2024/blob/main/Day_19_Linen_Layout.ipynb\" target=\"_parent\"><img src=\"https://colab.research.google.com/assets/colab-badge.svg\" alt=\"Open In Colab\"/></a>"
      ]
    },
    {
      "cell_type": "code",
      "source": [
        "input = \"\"\"r, wr, b, g, bwu, rb, gb, br\n",
        "\n",
        "brwrr\n",
        "bggr\n",
        "gbbr\n",
        "rrbgbr\n",
        "ubwu\n",
        "bwurrg\n",
        "brgr\n",
        "bbrgwb\"\"\""
      ],
      "metadata": {
        "id": "zCdBfTMTYCOE"
      },
      "execution_count": 9,
      "outputs": []
    },
    {
      "cell_type": "code",
      "source": [
        "input = open(\"input.txt\").read()"
      ],
      "metadata": {
        "id": "ltoJVj-wYECE"
      },
      "execution_count": 10,
      "outputs": []
    },
    {
      "cell_type": "code",
      "execution_count": 12,
      "metadata": {
        "colab": {
          "base_uri": "https://localhost:8080/"
        },
        "id": "S18yMfnlXss4",
        "outputId": "644d300d-685b-4008-93af-0b48266d7c87"
      },
      "outputs": [
        {
          "output_type": "stream",
          "name": "stdout",
          "text": [
            "302\n"
          ]
        }
      ],
      "source": [
        "class TrieNode:\n",
        "    def __init__(self):\n",
        "        self.children = {}\n",
        "        self.is_end = False\n",
        "\n",
        "def build_trie(tokens):\n",
        "    root = TrieNode()\n",
        "    for token in tokens:\n",
        "        node = root\n",
        "        for char in token:\n",
        "            if char not in node.children:\n",
        "                node.children[char] = TrieNode()\n",
        "            node = node.children[char]\n",
        "        node.is_end = True\n",
        "    return root\n",
        "\n",
        "def can_construct(word, start_idx, trie_root, memo=None):\n",
        "    if memo is None:\n",
        "        memo = {}\n",
        "\n",
        "    if start_idx == len(word):\n",
        "        return True\n",
        "\n",
        "    if start_idx in memo:\n",
        "        return memo[start_idx]\n",
        "\n",
        "    node = trie_root\n",
        "    for i in range(start_idx, len(word)):\n",
        "        char = word[i]\n",
        "        if char not in node.children:\n",
        "            break\n",
        "\n",
        "        node = node.children[char]\n",
        "        if node.is_end:\n",
        "            if can_construct(word, i + 1, trie_root, memo):\n",
        "                memo[start_idx] = True\n",
        "                return True\n",
        "\n",
        "    memo[start_idx] = False\n",
        "    return False\n",
        "\n",
        "def count_constructible_words(input_str):\n",
        "    # Parse input\n",
        "    lines = input_str.strip().split('\\n')\n",
        "    tokens = lines[0].split(', ')\n",
        "    words = lines[2:]\n",
        "\n",
        "    # Build trie from tokens\n",
        "    trie_root = build_trie(tokens)\n",
        "\n",
        "    # Count constructible words\n",
        "    count = 0\n",
        "    for word in words:\n",
        "        if can_construct(word, 0, trie_root):\n",
        "            count += 1\n",
        "\n",
        "    return count\n",
        "\n",
        "print(count_constructible_words(input))"
      ]
    },
    {
      "cell_type": "code",
      "source": [],
      "metadata": {
        "id": "xGcqijNEYGCd"
      },
      "execution_count": 11,
      "outputs": []
    }
  ]
}