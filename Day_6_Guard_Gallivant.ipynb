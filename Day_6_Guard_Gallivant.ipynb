{
  "nbformat": 4,
  "nbformat_minor": 0,
  "metadata": {
    "colab": {
      "provenance": [],
      "authorship_tag": "ABX9TyMpqfN6lLb1M7TPRb98zUaT",
      "include_colab_link": true
    },
    "kernelspec": {
      "name": "python3",
      "display_name": "Python 3"
    },
    "language_info": {
      "name": "python"
    }
  },
  "cells": [
    {
      "cell_type": "markdown",
      "metadata": {
        "id": "view-in-github",
        "colab_type": "text"
      },
      "source": [
        "<a href=\"https://colab.research.google.com/github/elichen/aoc2024/blob/main/Day_6_Guard_Gallivant.ipynb\" target=\"_parent\"><img src=\"https://colab.research.google.com/assets/colab-badge.svg\" alt=\"Open In Colab\"/></a>"
      ]
    },
    {
      "cell_type": "code",
      "execution_count": 25,
      "metadata": {
        "id": "h3WT1QqEjCh5"
      },
      "outputs": [],
      "source": [
        "input = \"\"\"....#.....\n",
        ".........#\n",
        "..........\n",
        "..#.......\n",
        ".......#..\n",
        "..........\n",
        ".#..^.....\n",
        "........#.\n",
        "#.........\n",
        "......#...\"\"\""
      ]
    },
    {
      "cell_type": "code",
      "source": [
        "input = open(\"input.txt\").read().rstrip()"
      ],
      "metadata": {
        "id": "KQKmIeFfj3xe"
      },
      "execution_count": 26,
      "outputs": []
    },
    {
      "cell_type": "code",
      "source": [
        "def simulate_movement(grid_input):\n",
        "    # Parse the grid into a list of lists\n",
        "    grid = [list(row) for row in grid_input.split(\"\\n\")]\n",
        "\n",
        "    # Define directions and their corresponding movements (N, E, S, W)\n",
        "    directions = [(-1, 0), (0, 1), (1, 0), (0, -1)]  # Up, Right, Down, Left\n",
        "\n",
        "    # Find the starting position and initial direction (facing up)\n",
        "    start_pos = None\n",
        "    for r, row in enumerate(grid):\n",
        "        for c, char in enumerate(row):\n",
        "            if char == \"^\":\n",
        "                start_pos = (r, c)\n",
        "                break\n",
        "        if start_pos:\n",
        "            break\n",
        "\n",
        "    if not start_pos:\n",
        "        raise ValueError(\"No starting position found.\")\n",
        "\n",
        "    # Initialize variables\n",
        "    current_pos = start_pos\n",
        "    current_dir = 0  # Index for directions list (0 = facing up)\n",
        "    visited_positions = set()\n",
        "\n",
        "    while True:\n",
        "        # Mark current position as visited\n",
        "        visited_positions.add(current_pos)\n",
        "\n",
        "        # Calculate the position in front of the character\n",
        "        front_pos = (current_pos[0] + directions[current_dir][0],\n",
        "                     current_pos[1] + directions[current_dir][1])\n",
        "\n",
        "        # Check if the position in front is within bounds and blocked\n",
        "        if 0 <= front_pos[0] < len(grid) and 0 <= front_pos[1] < len(grid[0]) and grid[front_pos[0]][front_pos[1]] == \"#\":\n",
        "            # Turn right (90 degrees)\n",
        "            current_dir = (current_dir + 1) % 4\n",
        "        else:\n",
        "            # Move forward\n",
        "            current_pos = front_pos\n",
        "\n",
        "            # Check if the move leaves the map\n",
        "            if not (0 <= current_pos[0] < len(grid) and 0 <= current_pos[1] < len(grid[0])):\n",
        "                break\n",
        "\n",
        "    # Return the number of distinct positions visited\n",
        "    return len(visited_positions)\n",
        "\n",
        "simulate_movement(input)"
      ],
      "metadata": {
        "colab": {
          "base_uri": "https://localhost:8080/"
        },
        "id": "zisYmPWsjJxg",
        "outputId": "e004c16e-a2f6-4d1b-d9e9-3f3699052f25"
      },
      "execution_count": 27,
      "outputs": [
        {
          "output_type": "execute_result",
          "data": {
            "text/plain": [
              "5199"
            ]
          },
          "metadata": {},
          "execution_count": 27
        }
      ]
    },
    {
      "cell_type": "code",
      "source": [
        "def simulate_movement_with_loop_detection(grid_input):\n",
        "    # Parse the grid into a list of lists\n",
        "    grid = [list(row) for row in grid_input.split(\"\\n\")]\n",
        "\n",
        "    # Define directions and their corresponding movements (N, E, S, W)\n",
        "    directions = [(-1, 0), (0, 1), (1, 0), (0, -1)]  # Up, Right, Down, Left\n",
        "\n",
        "    # Find the starting position and initial direction (facing up)\n",
        "    start_pos = None\n",
        "    for r, row in enumerate(grid):\n",
        "        for c, char in enumerate(row):\n",
        "            if char == \"^\":\n",
        "                start_pos = (r, c)\n",
        "                break\n",
        "        if start_pos:\n",
        "            break\n",
        "\n",
        "    if not start_pos:\n",
        "        raise ValueError(\"No starting position found.\")\n",
        "\n",
        "    # Initialize variables\n",
        "    current_pos = start_pos\n",
        "    current_dir = 0  # Index for directions list (0 = facing up)\n",
        "    visited_states = set()\n",
        "    visited_positions = set()\n",
        "\n",
        "    while True:\n",
        "        # Add the current state (position and direction) to visited states\n",
        "        state = (current_pos[0], current_pos[1], current_dir)\n",
        "        if state in visited_states:\n",
        "            return True  # Loop detected\n",
        "        visited_states.add(state)\n",
        "        visited_positions.add(current_pos)\n",
        "\n",
        "        # Calculate the position in front of the character\n",
        "        front_pos = (current_pos[0] + directions[current_dir][0],\n",
        "                     current_pos[1] + directions[current_dir][1])\n",
        "\n",
        "        # Check if the position in front is within bounds and blocked\n",
        "        if 0 <= front_pos[0] < len(grid) and 0 <= front_pos[1] < len(grid[0]) and grid[front_pos[0]][front_pos[1]] == \"#\":\n",
        "            # Turn right (90 degrees)\n",
        "            current_dir = (current_dir + 1) % 4\n",
        "        else:\n",
        "            # Move forward\n",
        "            current_pos = front_pos\n",
        "\n",
        "            # Check if the move leaves the map\n",
        "            if not (0 <= current_pos[0] < len(grid) and 0 <= current_pos[1] < len(grid[0])):\n",
        "                break\n",
        "\n",
        "    # Return the set of visited positions\n",
        "    return visited_positions, start_pos\n",
        "\n",
        "def calculate_total_loops(grid_input):\n",
        "    # Generate the initial path and starting position\n",
        "    visited_positions, start_pos = simulate_movement_with_loop_detection(grid_input)\n",
        "    if visited_positions is True:\n",
        "        raise ValueError(\"Initial path contains a loop.\")\n",
        "\n",
        "    grid = [list(row) for row in grid_input.split(\"\\n\")]\n",
        "    total_loops = 0\n",
        "\n",
        "    for pos in visited_positions:\n",
        "        # Skip the starting position\n",
        "        if pos == start_pos:\n",
        "            continue\n",
        "\n",
        "        # Add a '#' at each position in the visited path and check for loops\n",
        "        grid_copy = [row[:] for row in grid]\n",
        "        grid_copy[pos[0]][pos[1]] = '#'\n",
        "\n",
        "        # Convert the grid back to a string format\n",
        "        modified_grid_input = \"\\n\".join(\"\".join(row) for row in grid_copy)\n",
        "\n",
        "        # Check if a loop is created\n",
        "        if simulate_movement_with_loop_detection(modified_grid_input) == True:\n",
        "            total_loops += 1\n",
        "\n",
        "    return total_loops\n",
        "\n",
        "calculate_total_loops(input)"
      ],
      "metadata": {
        "colab": {
          "base_uri": "https://localhost:8080/"
        },
        "id": "eJdk-Jlzj7n_",
        "outputId": "4c3aed5e-3325-4851-de93-c17a113c7c4f"
      },
      "execution_count": 28,
      "outputs": [
        {
          "output_type": "execute_result",
          "data": {
            "text/plain": [
              "1915"
            ]
          },
          "metadata": {},
          "execution_count": 28
        }
      ]
    }
  ]
}