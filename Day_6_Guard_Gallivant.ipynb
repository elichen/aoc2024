{
  "nbformat": 4,
  "nbformat_minor": 0,
  "metadata": {
    "colab": {
      "provenance": [],
      "authorship_tag": "ABX9TyPqJ3Q2Djm4vRCtK0o4OlCD",
      "include_colab_link": true
    },
    "kernelspec": {
      "name": "python3",
      "display_name": "Python 3"
    },
    "language_info": {
      "name": "python"
    }
  },
  "cells": [
    {
      "cell_type": "markdown",
      "metadata": {
        "id": "view-in-github",
        "colab_type": "text"
      },
      "source": [
        "<a href=\"https://colab.research.google.com/github/elichen/aoc2024/blob/main/Day_6_Guard_Gallivant.ipynb\" target=\"_parent\"><img src=\"https://colab.research.google.com/assets/colab-badge.svg\" alt=\"Open In Colab\"/></a>"
      ]
    },
    {
      "cell_type": "code",
      "execution_count": 1,
      "metadata": {
        "id": "h3WT1QqEjCh5"
      },
      "outputs": [],
      "source": [
        "input = \"\"\"....#.....\n",
        ".........#\n",
        "..........\n",
        "..#.......\n",
        ".......#..\n",
        "..........\n",
        ".#..^.....\n",
        "........#.\n",
        "#.........\n",
        "......#...\"\"\""
      ]
    },
    {
      "cell_type": "code",
      "source": [
        "input = open(\"input.txt\").read().rstrip()"
      ],
      "metadata": {
        "id": "KQKmIeFfj3xe"
      },
      "execution_count": 10,
      "outputs": []
    },
    {
      "cell_type": "code",
      "source": [
        "def simulate_movement(grid_input):\n",
        "    # Parse the grid into a list of lists\n",
        "    grid = [list(row) for row in grid_input.split(\"\\n\")]\n",
        "\n",
        "    # Define directions and their corresponding movements (N, E, S, W)\n",
        "    directions = [(-1, 0), (0, 1), (1, 0), (0, -1)]  # Up, Right, Down, Left\n",
        "\n",
        "    # Find the starting position and initial direction (facing up)\n",
        "    start_pos = None\n",
        "    for r, row in enumerate(grid):\n",
        "        for c, char in enumerate(row):\n",
        "            if char == \"^\":\n",
        "                start_pos = (r, c)\n",
        "                break\n",
        "        if start_pos:\n",
        "            break\n",
        "\n",
        "    if not start_pos:\n",
        "        raise ValueError(\"No starting position found.\")\n",
        "\n",
        "    # Initialize variables\n",
        "    current_pos = start_pos\n",
        "    current_dir = 0  # Index for directions list (0 = facing up)\n",
        "    visited_positions = set()\n",
        "\n",
        "    while True:\n",
        "        # Mark current position as visited\n",
        "        visited_positions.add(current_pos)\n",
        "\n",
        "        # Calculate the position in front of the character\n",
        "        front_pos = (current_pos[0] + directions[current_dir][0],\n",
        "                     current_pos[1] + directions[current_dir][1])\n",
        "\n",
        "        # Check if the position in front is within bounds and blocked\n",
        "        if 0 <= front_pos[0] < len(grid) and 0 <= front_pos[1] < len(grid[0]) and grid[front_pos[0]][front_pos[1]] == \"#\":\n",
        "            # Turn right (90 degrees)\n",
        "            current_dir = (current_dir + 1) % 4\n",
        "        else:\n",
        "            # Move forward\n",
        "            current_pos = front_pos\n",
        "\n",
        "            # Check if the move leaves the map\n",
        "            if not (0 <= current_pos[0] < len(grid) and 0 <= current_pos[1] < len(grid[0])):\n",
        "                break\n",
        "\n",
        "    # Return the number of distinct positions visited\n",
        "    return len(visited_positions)\n",
        "\n",
        "simulate_movement(input)"
      ],
      "metadata": {
        "colab": {
          "base_uri": "https://localhost:8080/"
        },
        "id": "zisYmPWsjJxg",
        "outputId": "3cb5b171-a033-4780-9c84-b655b265f839"
      },
      "execution_count": 15,
      "outputs": [
        {
          "output_type": "execute_result",
          "data": {
            "text/plain": [
              "5199"
            ]
          },
          "metadata": {},
          "execution_count": 15
        }
      ]
    },
    {
      "cell_type": "code",
      "source": [],
      "metadata": {
        "id": "eJdk-Jlzj7n_"
      },
      "execution_count": null,
      "outputs": []
    }
  ]
}