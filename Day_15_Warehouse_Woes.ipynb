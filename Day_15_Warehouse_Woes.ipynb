{
  "nbformat": 4,
  "nbformat_minor": 0,
  "metadata": {
    "colab": {
      "provenance": [],
      "authorship_tag": "ABX9TyP3yMk60sdiUh0Ht/ZpzA3a",
      "include_colab_link": true
    },
    "kernelspec": {
      "name": "python3",
      "display_name": "Python 3"
    },
    "language_info": {
      "name": "python"
    }
  },
  "cells": [
    {
      "cell_type": "markdown",
      "metadata": {
        "id": "view-in-github",
        "colab_type": "text"
      },
      "source": [
        "<a href=\"https://colab.research.google.com/github/elichen/aoc2024/blob/main/Day_15_Warehouse_Woes.ipynb\" target=\"_parent\"><img src=\"https://colab.research.google.com/assets/colab-badge.svg\" alt=\"Open In Colab\"/></a>"
      ]
    },
    {
      "cell_type": "code",
      "source": [
        "input = \"\"\"########\n",
        "#..O.O.#\n",
        "##@.O..#\n",
        "#...O..#\n",
        "#.#.O..#\n",
        "#...O..#\n",
        "#......#\n",
        "########\n",
        "\n",
        "<^^>>>vv<v>>v<<^\"\"\""
      ],
      "metadata": {
        "id": "tgrzUrrIui1V"
      },
      "execution_count": null,
      "outputs": []
    },
    {
      "cell_type": "code",
      "source": [
        "input = open(\"input.txt\").read()"
      ],
      "metadata": {
        "id": "s-XOhhljudSP"
      },
      "execution_count": 8,
      "outputs": []
    },
    {
      "cell_type": "code",
      "execution_count": 9,
      "metadata": {
        "colab": {
          "base_uri": "https://localhost:8080/"
        },
        "id": "HNCrig43sCHq",
        "outputId": "fc4f4917-f1a1-4489-8384-ae855a35ba20"
      },
      "outputs": [
        {
          "output_type": "execute_result",
          "data": {
            "text/plain": [
              "1552463"
            ]
          },
          "metadata": {},
          "execution_count": 9
        }
      ],
      "source": [
        "def calculate_box_scores(grid):\n",
        "    total_score = 0\n",
        "    for i in range(len(grid)):\n",
        "        for j in range(len(grid[0])):\n",
        "            if grid[i][j] == 'O':\n",
        "                # i is distance from top, j is distance from left\n",
        "                score = 100 * i + j\n",
        "                total_score += score\n",
        "    return total_score\n",
        "\n",
        "def simulate_push_boxes(input_str):\n",
        "    # Previous parsing and simulation code remains the same\n",
        "    lines = input_str.strip().split('\\n')\n",
        "    empty_line_idx = lines.index('')\n",
        "\n",
        "    grid = [list(line) for line in lines[:empty_line_idx]]\n",
        "    actions = ''.join(lines[empty_line_idx + 1:])\n",
        "\n",
        "    # Find starting position of @\n",
        "    start_pos = None\n",
        "    for i in range(len(grid)):\n",
        "        for j in range(len(grid[0])):\n",
        "            if grid[i][j] == '@':\n",
        "                start_pos = (i, j)\n",
        "                break\n",
        "        if start_pos:\n",
        "            break\n",
        "\n",
        "    moves = {\n",
        "        '^': (-1, 0),\n",
        "        'v': (1, 0),\n",
        "        '<': (0, -1),\n",
        "        '>': (0, 1)\n",
        "    }\n",
        "\n",
        "    curr_pos = start_pos\n",
        "\n",
        "    for action in actions:\n",
        "        if action not in moves:\n",
        "            continue\n",
        "\n",
        "        dy, dx = moves[action]\n",
        "        new_y, new_x = curr_pos[0] + dy, curr_pos[1] + dx\n",
        "\n",
        "        if grid[new_y][new_x] == '#':\n",
        "            continue\n",
        "\n",
        "        if grid[new_y][new_x] == '.':\n",
        "            grid[curr_pos[0]][curr_pos[1]] = '.'\n",
        "            grid[new_y][new_x] = '@'\n",
        "            curr_pos = (new_y, new_x)\n",
        "            continue\n",
        "\n",
        "        if grid[new_y][new_x] == 'O':\n",
        "            boxes_to_move = []\n",
        "            check_y, check_x = new_y, new_x\n",
        "            while grid[check_y][check_x] == 'O':\n",
        "                boxes_to_move.append((check_y, check_x))\n",
        "                check_y, check_x = check_y + dy, check_x + dx\n",
        "\n",
        "            if grid[check_y][check_x] == '#':\n",
        "                continue\n",
        "\n",
        "            grid[check_y][check_x] = 'O'\n",
        "            grid[curr_pos[0]][curr_pos[1]] = '.'\n",
        "            grid[new_y][new_x] = '@'\n",
        "            curr_pos = (new_y, new_x)\n",
        "\n",
        "    # Calculate final score\n",
        "    return calculate_box_scores(grid)\n",
        "\n",
        "\n",
        "simulate_push_boxes(input)"
      ]
    }
  ]
}