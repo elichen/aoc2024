{
  "nbformat": 4,
  "nbformat_minor": 0,
  "metadata": {
    "colab": {
      "provenance": [],
      "authorship_tag": "ABX9TyPXuQ7V3lkIQB+PsEpcG0eJ",
      "include_colab_link": true
    },
    "kernelspec": {
      "name": "python3",
      "display_name": "Python 3"
    },
    "language_info": {
      "name": "python"
    }
  },
  "cells": [
    {
      "cell_type": "markdown",
      "metadata": {
        "id": "view-in-github",
        "colab_type": "text"
      },
      "source": [
        "<a href=\"https://colab.research.google.com/github/elichen/aoc2024/blob/main/Day_17_Chronospatial_Computer.ipynb\" target=\"_parent\"><img src=\"https://colab.research.google.com/assets/colab-badge.svg\" alt=\"Open In Colab\"/></a>"
      ]
    },
    {
      "cell_type": "code",
      "source": [
        "input = \"\"\"Register A: 63281501\n",
        "Register B: 0\n",
        "Register C: 0\n",
        "\n",
        "Program: 2,4,1,5,7,5,4,5,0,3,1,6,5,5,3,0\"\"\""
      ],
      "metadata": {
        "id": "8-Y0w-Z93Q2D"
      },
      "execution_count": 368,
      "outputs": []
    },
    {
      "cell_type": "code",
      "execution_count": 369,
      "metadata": {
        "colab": {
          "base_uri": "https://localhost:8080/"
        },
        "id": "daSypyCyRzm-",
        "outputId": "997567c4-4c71-4c71-eb0d-01c05fad2db1"
      },
      "outputs": [
        {
          "output_type": "stream",
          "name": "stdout",
          "text": [
            "Register A: 63281501\n",
            "Register B: 0\n",
            "Register C: 0\n",
            "\n",
            "Program: 2,4,1,5,7,5,4,5,0,3,1,6,5,5,3,0\n",
            "3,4,3,1,7,6,5,6,0\n",
            "{'A': 0, 'B': 0, 'C': 0}\n"
          ]
        }
      ],
      "source": [
        "def parse_input(input_str):\n",
        "    lines = input_str.strip().split('\\n')\n",
        "    registers = {\n",
        "        'A': int(lines[0].split(': ')[1]),\n",
        "        'B': int(lines[1].split(': ')[1]),\n",
        "        'C': int(lines[2].split(': ')[1])\n",
        "    }\n",
        "    program = [int(x) for x in lines[4].split(': ')[1].split(',')]\n",
        "    return registers, program\n",
        "\n",
        "def simulate_computer(registers, program, debug=False):\n",
        "    r = registers.copy()  # Make a copy to avoid modifying the input\n",
        "    ip = 0\n",
        "    out = []\n",
        "\n",
        "    def combo(operand):\n",
        "        if operand < 4: return operand\n",
        "        if operand == 4: return r['A']\n",
        "        if operand == 5: return r['B']\n",
        "        if operand == 6: return r['C']\n",
        "        return None\n",
        "\n",
        "    while ip < len(program):\n",
        "        opcode = program[ip]\n",
        "        operand = program[ip + 1]\n",
        "\n",
        "        if opcode == 0:   # adv\n",
        "            num = r['A']\n",
        "            den = 2**combo(operand)\n",
        "            r['A'] = num//den\n",
        "            ip += 2\n",
        "        elif opcode == 1: # bxl\n",
        "            r['B'] = r['B'] ^ operand\n",
        "            ip += 2\n",
        "        elif opcode == 2: # bst\n",
        "            r['B'] = combo(operand) % 8\n",
        "            ip += 2\n",
        "        elif opcode == 3: # jnz\n",
        "            if r['A'] == 0:\n",
        "              ip += 2\n",
        "            else:\n",
        "              ip = operand\n",
        "        elif opcode == 4: # bxc\n",
        "            r['B'] = r['B'] ^ r['C']\n",
        "            ip += 2\n",
        "        elif opcode == 5: # out\n",
        "            out.append(combo(operand) % 8)\n",
        "            if debug: print(\"out\",combo(operand) % 8)\n",
        "            ip += 2\n",
        "        elif opcode == 6: # bdv\n",
        "            num = r['A']\n",
        "            den = 2**combo(operand)\n",
        "            r['B'] = num//den\n",
        "            ip += 2\n",
        "        elif opcode == 7: # cdv\n",
        "            num = r['A']\n",
        "            den = 2**combo(operand)\n",
        "            r['C'] = num//den\n",
        "            ip += 2\n",
        "\n",
        "        if debug: print(r,opcode,operand,ip)\n",
        "\n",
        "    return r, out\n",
        "\n",
        "# Example usage:\n",
        "print(input)\n",
        "registers, program = parse_input(input)\n",
        "r, out = simulate_computer(registers, program)\n",
        "print(\",\".join(map(str,out)))\n",
        "print(r)"
      ]
    },
    {
      "cell_type": "code",
      "source": [
        "def concatenate_bits(bit_list):\n",
        "    result = 0\n",
        "    for num in bit_list:\n",
        "        # Shift the result left by 3 bits to make room for the next number\n",
        "        result = (result << 3) | (num & 0b111)  # Ensure the number is treated as 3 bits\n",
        "    return result"
      ],
      "metadata": {
        "id": "nawzwYn_JBtz"
      },
      "execution_count": 370,
      "outputs": []
    },
    {
      "cell_type": "code",
      "source": [
        "def try_sequence(sequence, target_output, program):\n",
        "    registers = {'A': concatenate_bits(sequence), 'B': 0, 'C': 0}\n",
        "    _, out = simulate_computer(registers, program)\n",
        "    return out\n",
        "\n",
        "def find_sequence(target_output, program, max_attempts=1000000):\n",
        "    sequence = [1] + [0] * 15\n",
        "    pos = 0  # Position in input sequence we're currently modifying\n",
        "    attempts = 0\n",
        "\n",
        "    while attempts < max_attempts:\n",
        "        attempts += 1\n",
        "        current_output = try_sequence(sequence, target_output, program)\n",
        "\n",
        "        if attempts % 1000 == 0:\n",
        "            print(f\"\\nAttempt {attempts}:\")\n",
        "            print(f\"Current sequence: {sequence}\")\n",
        "            print(f\"Current output:   {current_output}\")\n",
        "            print(f\"Target output:    {target_output}\")\n",
        "            print(f\"Current position: {pos}\")\n",
        "\n",
        "        if current_output == target_output:\n",
        "            return sequence, attempts\n",
        "\n",
        "        # Check if current input position gives correct output\n",
        "        output_pos = 15 - pos\n",
        "        if current_output[output_pos] == target_output[output_pos]:\n",
        "            pos += 1  # Move to next input position\n",
        "        else:\n",
        "            sequence[pos] = (sequence[pos] + 1) % 8\n",
        "\n",
        "            if sequence[pos] == 0:  # We've tried all values (0-7)\n",
        "                # print(f\"Tried all values at input[{pos}], backtracking...\")\n",
        "                # Backtrack to previous position\n",
        "                while pos > 0:\n",
        "                    pos -= 1\n",
        "                    sequence[pos] = (sequence[pos] + 1) % 8\n",
        "                    if sequence[pos] != 0:  # Found a position we can still increment\n",
        "                        # print(f\"Backtracked to position {pos}, new value: {sequence[pos]}\")\n",
        "                        # Reset all positions after this one\n",
        "                        for i in range(pos + 1, 16):\n",
        "                            sequence[i] = 0\n",
        "                        break\n",
        "                if pos == 0 and sequence[pos] == 0:\n",
        "                    # print(\"Backtracked all the way to start, resetting...\")\n",
        "                    sequence = [1] + [0] * 15\n",
        "                    pos = 0\n",
        "\n",
        "    return None, attempts\n",
        "\n",
        "sequence, attempts = find_sequence(program, program)\n",
        "print(f\"Found solution in {attempts} attempts:\")\n",
        "print(f\"Input sequence: {sequence}\")\n",
        "print(f\"Verification output: {try_sequence(sequence, program, program)}\")\n",
        "concatenate_bits(sequence)"
      ],
      "metadata": {
        "colab": {
          "base_uri": "https://localhost:8080/"
        },
        "id": "X0hELD1uIaRe",
        "outputId": "6c92c0c3-384b-453c-df17-22f971df0863"
      },
      "execution_count": 371,
      "outputs": [
        {
          "output_type": "stream",
          "name": "stdout",
          "text": [
            "Found solution in 163 attempts:\n",
            "Input sequence: [3, 0, 6, 2, 3, 4, 5, 6, 1, 6, 1, 0, 4, 6, 3, 2]\n",
            "Verification output: [2, 4, 1, 5, 7, 5, 4, 5, 0, 3, 1, 6, 5, 5, 3, 0]\n"
          ]
        },
        {
          "output_type": "execute_result",
          "data": {
            "text/plain": [
              "109019930331546"
            ]
          },
          "metadata": {},
          "execution_count": 371
        }
      ]
    }
  ]
}