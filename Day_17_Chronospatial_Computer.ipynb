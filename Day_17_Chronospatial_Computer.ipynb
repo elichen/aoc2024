{
  "nbformat": 4,
  "nbformat_minor": 0,
  "metadata": {
    "colab": {
      "provenance": [],
      "authorship_tag": "ABX9TyPx7JqE9otrY0BBrYrErgtW",
      "include_colab_link": true
    },
    "kernelspec": {
      "name": "python3",
      "display_name": "Python 3"
    },
    "language_info": {
      "name": "python"
    }
  },
  "cells": [
    {
      "cell_type": "markdown",
      "metadata": {
        "id": "view-in-github",
        "colab_type": "text"
      },
      "source": [
        "<a href=\"https://colab.research.google.com/github/elichen/aoc2024/blob/main/Day_17_Chronospatial_Computer.ipynb\" target=\"_parent\"><img src=\"https://colab.research.google.com/assets/colab-badge.svg\" alt=\"Open In Colab\"/></a>"
      ]
    },
    {
      "cell_type": "code",
      "source": [
        "input = \"\"\"Register A: 63281501\n",
        "Register B: 0\n",
        "Register C: 0\n",
        "\n",
        "Program: 2,4,1,5,7,5,4,5,0,3,1,6,5,5,3,0\"\"\""
      ],
      "metadata": {
        "id": "8-Y0w-Z93Q2D"
      },
      "execution_count": 21,
      "outputs": []
    },
    {
      "cell_type": "code",
      "execution_count": 22,
      "metadata": {
        "colab": {
          "base_uri": "https://localhost:8080/"
        },
        "id": "daSypyCyRzm-",
        "outputId": "51462916-255f-4fcc-a89b-8cc7e51eca93"
      },
      "outputs": [
        {
          "output_type": "stream",
          "name": "stdout",
          "text": [
            "3,4,3,1,7,6,5,6,0\n"
          ]
        },
        {
          "output_type": "execute_result",
          "data": {
            "text/plain": [
              "{'A': 0, 'B': 0, 'C': 0}"
            ]
          },
          "metadata": {},
          "execution_count": 22
        }
      ],
      "source": [
        "def simulate_computer(input_str):\n",
        "    # Parse initial register values and program\n",
        "    lines = input_str.strip().split('\\n')\n",
        "\n",
        "    # Initialize registers from input\n",
        "    r = {\n",
        "        'A': int(lines[0].split(': ')[1]),\n",
        "        'B': int(lines[1].split(': ')[1]),\n",
        "        'C': int(lines[2].split(': ')[1])\n",
        "    }\n",
        "\n",
        "    # Parse program into list of integers\n",
        "    program = [int(x) for x in lines[4].split(': ')[1].split(',')]\n",
        "\n",
        "    # Instruction pointer\n",
        "    ip = 0\n",
        "    out = []\n",
        "\n",
        "    def combo(operand):\n",
        "      if operand < 4: return operand\n",
        "      if operand == 4: return r['A']\n",
        "      if operand == 5: return r['B']\n",
        "      if operand == 6: return r['C']\n",
        "      return None\n",
        "\n",
        "    while ip < len(program):\n",
        "        opcode = program[ip]\n",
        "        operand = program[ip + 1]\n",
        "\n",
        "        if opcode == 0:   # adv\n",
        "            num = r['A']\n",
        "            den = 2**combo(operand)\n",
        "            r['A'] = num//den\n",
        "            ip += 2\n",
        "        elif opcode == 1: # bxl\n",
        "            r['B'] = r['B'] ^ operand\n",
        "            ip += 2\n",
        "        elif opcode == 2: # bst\n",
        "            r['B'] = combo(operand) % 8\n",
        "            ip += 2\n",
        "        elif opcode == 3: # jnz\n",
        "            if r['A'] == 0:\n",
        "              ip += 2\n",
        "            else:\n",
        "              ip = operand\n",
        "        elif opcode == 4: # bxc\n",
        "            r['B'] = r['B'] ^ r['C']\n",
        "            ip += 2\n",
        "        elif opcode == 5: # out\n",
        "            out.append(combo(operand) % 8)\n",
        "            ip += 2\n",
        "        elif opcode == 6: # bdv\n",
        "            num = r['A']\n",
        "            den = 2**combo(operand)\n",
        "            r['B'] = num//den\n",
        "            ip += 2\n",
        "        elif opcode == 7: # cdv\n",
        "            num = r['A']\n",
        "            den = 2**combo(operand)\n",
        "            r['C'] = num//den\n",
        "            ip += 2\n",
        "\n",
        "    return r, out\n",
        "\n",
        "r,out = simulate_computer(input)\n",
        "print(\",\".join(map(str,out)))\n",
        "r"
      ]
    }
  ]
}