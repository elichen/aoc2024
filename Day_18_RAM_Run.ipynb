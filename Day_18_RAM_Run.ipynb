{
  "nbformat": 4,
  "nbformat_minor": 0,
  "metadata": {
    "colab": {
      "provenance": [],
      "authorship_tag": "ABX9TyOnHZD6w5+R5xfSNQO+31yq",
      "include_colab_link": true
    },
    "kernelspec": {
      "name": "python3",
      "display_name": "Python 3"
    },
    "language_info": {
      "name": "python"
    }
  },
  "cells": [
    {
      "cell_type": "markdown",
      "metadata": {
        "id": "view-in-github",
        "colab_type": "text"
      },
      "source": [
        "<a href=\"https://colab.research.google.com/github/elichen/aoc2024/blob/main/Day_18_RAM_Run.ipynb\" target=\"_parent\"><img src=\"https://colab.research.google.com/assets/colab-badge.svg\" alt=\"Open In Colab\"/></a>"
      ]
    },
    {
      "cell_type": "code",
      "source": [
        "input = \"\"\"5,4\n",
        "4,2\n",
        "4,5\n",
        "3,0\n",
        "2,1\n",
        "6,3\n",
        "2,4\n",
        "1,5\n",
        "0,6\n",
        "3,3\n",
        "2,6\n",
        "5,1\"\"\""
      ],
      "metadata": {
        "id": "x3-LZeAYaBQe"
      },
      "execution_count": 12,
      "outputs": []
    },
    {
      "cell_type": "code",
      "source": [
        "input = open(\"input.txt\").read()"
      ],
      "metadata": {
        "id": "apxLcNDqaDiE"
      },
      "execution_count": 14,
      "outputs": []
    },
    {
      "cell_type": "code",
      "execution_count": 15,
      "metadata": {
        "colab": {
          "base_uri": "https://localhost:8080/"
        },
        "id": "COFt23FcZaFh",
        "outputId": "59e071c7-e2f9-4b79-fdb1-73d03b65d2e6"
      },
      "outputs": [
        {
          "output_type": "stream",
          "name": "stdout",
          "text": [
            "\n",
            "Grid visualization:\n",
            ". . . . . X . . . . . . . . . X . . . X . . . . . . . X . . . . . . . . . . . . . . . . . . . . . . . . . . . . . . . . . . . . . . . . . . .\n",
            ". X X X . X X X X X . X X X . X X X . X . X X X . . . X . . . X . . . . . . . . . . X . . . . . . . . . . . . . . . . . . . . . . . . . . . .\n",
            ". X . . . . . . . . . X . . . . . . . X . . . X . X . X . . . . . X . . . . . . . . . . . . . . . . . . . . . . . . . . . . . . . . . . . . .\n",
            ". X X X X X X X . X X X X X X X X X X X . . . X . X X . . . . X X . . X . . . . . . . . . . . . . . . . . . . . . . . . . . . . . . . . . . .\n",
            ". . . . . . . X . X . . . . . . . . . . . . . X . . . X . . . . . . . . . . . . . . . . . . . . . . . . . . . . . . . . . . . . . . . . . . .\n",
            "X X X X . X . X X X . X X X X X X X X X X X . . X X . X X . . X . . . . . . . . . . . . . . . . . . . . . . . . . . . . . . . . . . . . . . .\n",
            ". . . X . X . . . . . . . X . . . . . X . . . X . . . X . . . . . . . . . . . . . . . . . . . . . . . . . . . . . . . . . . . . . . . . . . .\n",
            ". X . X X X X X . X X X X X . X X X . X X X X X . X . X . . . X . . . . . . . . . . . . . . . . . . . . . . . . . . . . . . . . . . . . . . .\n",
            ". X . X . . . X . . . X . . . X . X . . . . . . . X . X . . . X . . . . . . . . . . . . . . . . . . . . . . . . . . . . . . . . . . . . . . .\n",
            ". X . X . X . X X X X X . X X X . X X X X X X X X X . X X X . X . . . . . X . . . . . . . . . . . . . . . . . . . . . . . . . . . . . . . . .\n",
            ". X . . . X . . . . . . . X . . . . . X . . . . . X . X . . . . . X . . . . . . . . . . . . . . . . . . . . . . . . . . . . . . . . . . . . .\n",
            ". X X X X X X X X X X X X X X X X X . X . X . X X X . X . . X X . . . . . . . . . . . . . . . . . . . . . . . . . . . . . . . . . . . . . . .\n",
            ". . . . . X . . . . . . . . . . . X . . . X . X . . . X . X . . . . . . . . . . . . . . . . . . . . . . . . . . . . . . . . . . . . . . . . .\n",
            ". X X X . X . X X X X X X X X X . X X X X X . X . X X X . . . X . . . . . . . . . . . . . . . . . . . . . . . . . . . . . . . . . . . . . . .\n",
            ". . . X . X . X . . . . . . . X . . . . . X . . . . . X . X . . . . . . . . . . . . . . . . . . . . . . . . . . . . . . . . . . . . . . . . .\n",
            "X X . X . X . X X . X . X X . X X X X X . . X X X X X X . X . X X . . . . . . . . . . . . . . . . . . . . . . . . . . . . . . . . . . . . . .\n",
            ". X . X . . . X . . . . . . . X . . . . . X . . . . . . . X . . . . . . . . . . . X . . . . . . . . . . . . . . . . . . . . . . . . . . . . .\n",
            ". X . X X X X . . . X X X . . X . X . X X X . X X . . X X . . . . . . . . . . . . . . . . . . . . . . . . . . . . . . . . . . . . . . . . . .\n",
            ". X . . . X . . . . . . . X . X . X . X . . . . . . . . . . . . . . . . . . . . . . . . . . . . . . . . . . . . . . . . . . . . . . . . . . .\n",
            ". X X X . X X X X . . . . X X X . X . X . X . X . X . . . . . . . . . . . . . . . . . . . . . . . . . . . . . . . . . . . . . . . . . . . . .\n",
            ". X . . . X . . . X . X . X . . . X . X . . . . . . . . . . . . . . . . . . . . . . . . . . . . . . . . . . . . . . . . . . . . . . . . . . .\n",
            ". X . X X X . X . X X X . X . X X X X X X X X X . X . . X X . . X . . . . . . . . . . . . . . . . . . . . . . . . . . . . . . . . . . . . . .\n",
            ". . . X . . . X . . . X . X . X . . . . . . . . . X . . . X . X . . . . . . . . . . . . . . . . . . . . . . . . . . . . . . . . . . . . . . .\n",
            ". X X X X X . X X X . X . X . X . X X X . X X X . X . X . X . X . . . . . . . . . . . . . . . . . . . . . . . . . . . . . . . . . . . . . . .\n",
            ". X . . . . . X . . . X . X . . . X . X . X . . . . . X . X . X . . . . . . . . . . . . . . . . . . . . . . . . . . . . . . . . . . . . . . .\n",
            ". X . X X X X X . X X X . X X X X X . X . X X . X X . . X X . . . . . . . . . . . . . . . . . . . . . . . . . . . . . . . . . . . . . . . . .\n",
            ". . . X . . . X . . . . . . . . . X . . . . . . . X . X . . . . . . . . . . . . . . . . . . . . . . . . . . . . . . . . . . . . . . . . . . .\n",
            "X X X X X X . X X X X X X X X X . X . . X X X X . X X X . X X . . . . . . . . . . . . . . . . . . . . . . . . . X . . . . . . . . . . . . . .\n",
            ". . . . . . . . . . . . . . . X . . . . . . . X . . . . . X . . . . . . . . . . . . . . . . . . . . . . . . . . . . . . . . . . . . . . . . .\n",
            ". . . X . X . X . X . X . . . . X X X X X X . X X X X X X . . . . . . . . . . . . . . . . . . . . . . . . . . . . . . . . . . . . . . . . . .\n",
            ". . . X . . . . . . . . . . . . . . . . . X . . . X . . . . . . . . . . . . . . . . . . . . . . . . . X . . . . . . . X . . . . . . . . . . .\n",
            ". X X . . . . . X X X . . . . . . . . X X . X X . X . X . . . . . . . . . . . X . . . . . . . . . . . . . . . . . . . X . . . . . . . . . . .\n",
            ". . . . . . . . . . . . . . . . . . . . . . . . . X . . . . . . . . . . . . . . . . . . . . . . . . . . . . . . . X . . . . . . . . . . . . .\n",
            ". . . . . . . . . . X . X . . X . . X . . . . X X . . . . . . . . . . . . . . . . X . . . . . . . . X . . . . . . . . . . X . . . . . . . . .\n",
            ". . . . . . . . . X . . . . . . . . . . . . . . . . . . . . . . . . . . . . . . . . . . . . . . . . . . . X . . . X . . . . . . . . . . . . .\n",
            ". . . . . . . . . . . X . . . . . . . . . . . X X X . . . . . . . . . . . X . . . . . . . . . . . . X . . . . . . X . . . . . . . . . . . . .\n",
            ". . . . . . . . . . . . . . . . . . . . . . . . . . . . . X . . . . . . . . . . . . . . . . . . . . . . . . . X . . . . . X . . . . . . . . .\n",
            ". . . . . . . . . . . . . . . . . . . . . . . . . . . . . . . . . . . X . X . . . . X . . . . . . X . . . X . X . . X X . X . . . . . . . . .\n",
            ". . . . . . . . . . . . . . . . . . . . . . . . . . . . . . . . . . . . . X . X . . . . . . . . . X . . . . . . . . . X . . . X . . . . . . .\n",
            ". . . . . . . . . . . . . . . . . . . . . . . . . . . . . . . X X X X X X X . X . . . . . . . X . . . . . . . X . . . X . X X . . . . . . . .\n",
            ". . . . . . . . . . . . . . . . . . . . . . . . . . . . . X . X . . . . . X . . . . . . . . . . . . . . . X . . . X . X . . . . . . . . . . .\n",
            ". . . . . . . . . . . . . . . . . . . . . . . . . . . . . X . X . X X X . X X X X X X . . . . . X . . X . X . . X . . X X X . . X . . . . . .\n",
            ". . . . . . . . . . . . . . . . . . . . . . . . . . . . . X . . . X . . . . . . . . . . . . . X . . . . . X . . . X . . . . . . . . . . . . .\n",
            ". . . . . . . . . . . . . . . . . . . . . . . . . . . . . X . . X X . X X X X X X X . . . . X . . . X . X . . X . X X X . . . X X X X . . . .\n",
            ". . . . . . . . . . . . . . . . . . . . . . . . . . . X . . . X . . . X . . . . . X . . . . . . . . . . . . . X . X . . . . . . . . . . . . .\n",
            ". . . . . . . . . . . . . . . . . . . . . . . . . . . . . . . X . X X X . X X X . X . X . . . . . . . X . . X X . X . X X . X . . X X . X . .\n",
            ". . . . . . . . . . . . . . . . . . . . . . . . . . . X . . . X . . . X . X . . . X . . . . . . . . . X . . . . . X . . . X . . . . . . . . .\n",
            ". . . . . . . . . . . . . . . . . . . . . . . . . . . . . X . X X X . X . X . X X X . X . . . . . . . . . . X X X X X X . X X X X X . X X X X\n",
            ". . . . . . . . . . . . . . . . . . . . . . . . . . . . . . . . . X . . . X . X . X . . . . . . . . . X . X . . . . . X . . . . . X . X . . .\n",
            ". . . . . . . . . . . . . . . . . . . . . . . . . X . X . . . X . X X X X X . X . X . X . X . . . . . X . X . X X X . X X X X X . X X X . X .\n",
            ". . . . . . . . . . . . . . . . . . . . . . . . . . . . . . . . . X . . . . . X . . . X . . . . . X . . . X . X . . . X . . . . . X . . . X .\n",
            ". . . . . . . . . . . . . . . . . . . . . . . . . . X . . . . X X . . X X X X X . X . . X . X . X . X . . X . X . X X X . . X X . X . X X X .\n",
            ". . . . . . . . . . . . . . . . . . . . . . . . . . . . . . . . . X . X . . . . . . . . . . . . . . . . . X . X . . . . . X . . . X . . . X .\n",
            ". . . . . . . . . . . . . . . . . . . . . . . . . . . . . . . X X X . X . . . . X X X X X X X X X X . X . X . X X X X X X . . . . X X X . X .\n",
            ". . . . . . . . . . . . . . . . . . . . . . . . . X . X . . . X . . . X . . . X . X . . . X . . . X . . . X . . . X . . . . . . . X . . . X .\n",
            ". . . . . . . . . . . . . . . . . . . . . . . . . X . X . . . X . X X . . X X . . X . X . X . X . X . . X X X X . . X X X X X . X X . X X . .\n",
            ". . . . . . . . . . . . . . . . . . . . . . . . . . . . . . . X . . . X . . . . . X . X . X . X . X . X . . . . . X . . . . . X . . . X . X .\n",
            ". . . . . . . . . . . . . . . . X X . X . . . X . X X X . X X X X X . X X . X X . X . X . X . X . X X X . X X X X X . X X X . X . X X X . X .\n",
            ". . . . . . . . . . . . . . . . . . . . . . . X . . . X . . . . . X . X . . . . . X . X . . . X . . . X . X . . . X . X . . . X . X . . . X .\n",
            ". . . . . . . . . . . . . . . . . . . . . . . X . X . X . . X X X X . X . X X X X X . X X X X . X X . X . X . X . X . X . X X X . X . X . X .\n",
            ". . . . . . . . . . . . . . . . . . . . . . . . . X . X . X . . . . . X . . . . . X . X . . . . . X . X . . . X . . . X . X . . . X . X . X .\n",
            ". . . . . . . . . . . . . . . . . X . . X . . . . X . X . X . X X X X X X X X X . X . X . X . . . X . X X X X X X X . X . X . X X . . X X X .\n",
            ". . . . . . . . . . . . . . . . . . . . . . . . . . . . . X . . . X . . . . . X . X . X . . . . . X . . . . . . . X . X . . . X . . . X . . .\n",
            ". . . . . . . . . . . . . . X . . . X . . . . . . X . . . X X X . X . X X X . X X X . X . X X X . . X X X X X X . X . X X X X . . X . X . X X\n",
            ". . . . . . . . . . . . . . . . . . . . . X . X . . . X . . . X . . . X . X . . . . . X . . . . . X . . . . . X . X . . . . . X . X . X . . .\n",
            ". . . . . . . . . . . X . X . . . X . . . . . X . . . X . . . . X X X X . X X X X X X X . . . X . . . X X X X X . X X X X X . X . X X X X X .\n",
            ". . . . . . . . . . . . . . . . . . . . . X . . . . . . . . . . . X . . . . . . . . . . . . . X . . . X . . . . . X . . . . . . . X . . . X .\n",
            ". . . . . . . . . . . . . . . . . . . . . . . . . . . . X . . . . X X X . . X X . X . X . . . . X X . X . X X X X X . X X X X X X X . X . X .\n",
            ". . . . . . . . . . . . . . . . . . . . . . . . . . . . . . . . . . . . . . . . . . . . . . . . . . . X . . . . . X . . . X . . . X . X . . .\n",
            ". . . . . . . . . . . . . . . . . . . . . . . . . . . . . . . . . . . . . . . . . . . . X . . X . X X X X X X X . X X X X X . X . X . X X X .\n",
            ". . . . . . . . . . . . . . . . . . . . . . . . . . . . . . . . . . . . . . . . . . . . . . . X . . . . . . . X . . . . . . . X . . . X . . .\n",
            "\n",
            "Shortest path length: 344\n"
          ]
        }
      ],
      "source": [
        "from heapq import heappush, heappop\n",
        "from typing import List, Set, Tuple\n",
        "\n",
        "def manhattan_distance(p1: Tuple[int, int], p2: Tuple[int, int]) -> int:\n",
        "    return abs(p1[0] - p2[0]) + abs(p1[1] - p2[1])\n",
        "\n",
        "def parse_coordinates(input_str: str, limit: int = None) -> Set[Tuple[int, int]]:\n",
        "    coordinates = set()\n",
        "    for i, line in enumerate(input_str.strip().split('\\n')):\n",
        "        if limit is not None and i >= limit:\n",
        "            break\n",
        "        x, y = map(int, line.split(','))\n",
        "        coordinates.add((x, y))\n",
        "    return coordinates\n",
        "\n",
        "def find_shortest_path(obstacles: Set[Tuple[int, int]], grid_size: int) -> int:\n",
        "    start = (0, 0)\n",
        "    goal = (grid_size - 1, grid_size - 1)\n",
        "\n",
        "    # Check if start or goal is blocked\n",
        "    if start in obstacles or goal in obstacles:\n",
        "        return -1\n",
        "\n",
        "    # Priority queue for A*: (f_score, g_score, position)\n",
        "    open_set = [(manhattan_distance(start, goal), 0, start)]\n",
        "    g_scores = {start: 0}\n",
        "    came_from = {}\n",
        "\n",
        "    while open_set:\n",
        "        _, g_score, current = heappop(open_set)\n",
        "\n",
        "        if current == goal:\n",
        "            return g_score\n",
        "\n",
        "        for dx, dy in [(0, 1), (1, 0), (0, -1), (-1, 0)]:\n",
        "            next_pos = (current[0] + dx, current[1] + dy)\n",
        "\n",
        "            if (next_pos[0] < 0 or next_pos[0] >= grid_size or\n",
        "                next_pos[1] < 0 or next_pos[1] >= grid_size or\n",
        "                next_pos in obstacles):\n",
        "                continue\n",
        "\n",
        "            tentative_g_score = g_score + 1\n",
        "\n",
        "            if next_pos not in g_scores or tentative_g_score < g_scores[next_pos]:\n",
        "                came_from[next_pos] = current\n",
        "                g_scores[next_pos] = tentative_g_score\n",
        "                f_score = tentative_g_score + manhattan_distance(next_pos, goal)\n",
        "                heappush(open_set, (f_score, tentative_g_score, next_pos))\n",
        "\n",
        "    return -1\n",
        "\n",
        "def print_coordinate_grid(coordinates: Set[Tuple[int, int]], grid_size: int) -> None:\n",
        "    grid = [['.'] * grid_size for _ in range(grid_size)]\n",
        "\n",
        "    for x, y in coordinates:\n",
        "        grid[y][x] = 'X'\n",
        "\n",
        "    for row in grid:\n",
        "        print(' '.join(row))\n",
        "\n",
        "coordinates = parse_coordinates(input, 1024)\n",
        "\n",
        "print(\"\\nGrid visualization:\")\n",
        "print_coordinate_grid(coordinates, 71)\n",
        "print(\"\\nShortest path length:\", find_shortest_path(coordinates, 71))"
      ]
    }
  ]
}