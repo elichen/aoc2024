{
  "nbformat": 4,
  "nbformat_minor": 0,
  "metadata": {
    "colab": {
      "provenance": [],
      "authorship_tag": "ABX9TyNCKeJ3e3K52rWWPQR/d2Lj",
      "include_colab_link": true
    },
    "kernelspec": {
      "name": "python3",
      "display_name": "Python 3"
    },
    "language_info": {
      "name": "python"
    }
  },
  "cells": [
    {
      "cell_type": "markdown",
      "metadata": {
        "id": "view-in-github",
        "colab_type": "text"
      },
      "source": [
        "<a href=\"https://colab.research.google.com/github/elichen/aoc2024/blob/main/Day_4_Ceres_Search.ipynb\" target=\"_parent\"><img src=\"https://colab.research.google.com/assets/colab-badge.svg\" alt=\"Open In Colab\"/></a>"
      ]
    },
    {
      "cell_type": "code",
      "source": [
        "input = [\n",
        "    \"MMMSXXMASM\",\n",
        "    \"MSAMXMSMSA\",\n",
        "    \"AMXSXMAAMM\",\n",
        "    \"MSAMASMSMX\",\n",
        "    \"XMASAMXAMM\",\n",
        "    \"XXAMMXXAMA\",\n",
        "    \"SMSMSASXSS\",\n",
        "    \"SAXAMASAAA\",\n",
        "    \"MAMMMXMMMM\",\n",
        "    \"MXMXAXMASX\",\n",
        "]"
      ],
      "metadata": {
        "id": "04L7EvIvMcCl"
      },
      "execution_count": 68,
      "outputs": []
    },
    {
      "cell_type": "code",
      "source": [
        "input = [x.rstrip() for x in open(\"input.txt\")]"
      ],
      "metadata": {
        "id": "nolrWzwuMogn"
      },
      "execution_count": 69,
      "outputs": []
    },
    {
      "cell_type": "code",
      "execution_count": 70,
      "metadata": {
        "colab": {
          "base_uri": "https://localhost:8080/"
        },
        "id": "dQv9aUM4Ltry",
        "outputId": "0ad2076a-cda5-46ac-e36e-081b99c292ba"
      },
      "outputs": [
        {
          "output_type": "execute_result",
          "data": {
            "text/plain": [
              "2569"
            ]
          },
          "metadata": {},
          "execution_count": 70
        }
      ],
      "source": [
        "def count_xmas_in_grid(grid):\n",
        "    def is_valid(x, y):\n",
        "        \"\"\"Check if a position is within the grid.\"\"\"\n",
        "        return 0 <= x < len(grid) and 0 <= y < len(grid[0])\n",
        "\n",
        "    def count_xmas_from_position(x, y):\n",
        "        \"\"\"Count the number of XMAS strings starting from (x, y).\"\"\"\n",
        "        directions = [\n",
        "            (-1, 0),  # up\n",
        "            (1, 0),   # down\n",
        "            (0, -1),  # left\n",
        "            (0, 1),   # right\n",
        "            (-1, -1), # up-left diagonal\n",
        "            (-1, 1),  # up-right diagonal\n",
        "            (1, -1),  # down-left diagonal\n",
        "            (1, 1)    # down-right diagonal\n",
        "        ]\n",
        "        count = 0\n",
        "        for dx, dy in directions:\n",
        "            positions = [(x, y)]  # Keep track of the current path\n",
        "            valid = True\n",
        "            for i, char in enumerate(\"XMAS\"):\n",
        "                nx, ny = x + i * dx, y + i * dy\n",
        "                if not (is_valid(nx, ny) and grid[nx][ny] == char):\n",
        "                    valid = False\n",
        "                    break\n",
        "                positions.append((nx, ny))\n",
        "\n",
        "            if valid:\n",
        "                count += 1\n",
        "        return count\n",
        "\n",
        "    # Initialize the total count of XMAS strings\n",
        "    total_count = 0\n",
        "\n",
        "    # Traverse the entire grid\n",
        "    for i in range(len(grid)):\n",
        "        for j in range(len(grid[0])):\n",
        "            if grid[i][j] == 'X':  # Only start from X\n",
        "                total_count += count_xmas_from_position(i, j)\n",
        "\n",
        "    return total_count\n",
        "\n",
        "count_xmas_in_grid(input)"
      ]
    },
    {
      "cell_type": "code",
      "source": [
        "def count_x_mas_patterns(grid):\n",
        "    rows = len(grid)\n",
        "    cols = len(grid[0])\n",
        "    total = 0\n",
        "\n",
        "    def check_diagonal_mas(x, y, top_left):\n",
        "        \"\"\"\n",
        "        Check diagonal starting from top position\n",
        "        top_left: True for \\ diagonal, False for / diagonal\n",
        "        \"\"\"\n",
        "        if grid[x][y] != 'A':  # Center must be 'A'\n",
        "            return False\n",
        "\n",
        "        # For \\ diagonal: dx = -1, dy = -1 (top) and dx = 1, dy = 1 (bottom)\n",
        "        # For / diagonal: dx = -1, dy = 1 (top) and dx = 1, dy = -1 (bottom)\n",
        "        dx = [-1, 1]\n",
        "        dy = [-1, 1] if top_left else [1, -1]\n",
        "\n",
        "        # Check both MAS and SAM possibilities\n",
        "        top_char = grid[x + dx[0]][y + dy[0]]\n",
        "        bottom_char = grid[x + dx[1]][y + dy[1]]\n",
        "\n",
        "        return (top_char == 'M' and bottom_char == 'S') or (top_char == 'S' and bottom_char == 'M')\n",
        "\n",
        "    # Start from 1 and end at n-2 to ensure we can check diagonals\n",
        "    for i in range(1, rows-1):\n",
        "        for j in range(1, cols-1):\n",
        "            # Check if both diagonals form MAS/SAM patterns\n",
        "            if (check_diagonal_mas(i, j, True) and  # Check \\ diagonal\n",
        "                check_diagonal_mas(i, j, False)):   # Check / diagonal\n",
        "                total += 1\n",
        "\n",
        "    return total\n",
        "\n",
        "count_x_mas_patterns(input)"
      ],
      "metadata": {
        "colab": {
          "base_uri": "https://localhost:8080/"
        },
        "id": "AZoKYjaWsV8b",
        "outputId": "09819329-259f-4f17-b3c3-1ce6cb5afa57"
      },
      "execution_count": 77,
      "outputs": [
        {
          "output_type": "execute_result",
          "data": {
            "text/plain": [
              "1998"
            ]
          },
          "metadata": {},
          "execution_count": 77
        }
      ]
    }
  ]
}