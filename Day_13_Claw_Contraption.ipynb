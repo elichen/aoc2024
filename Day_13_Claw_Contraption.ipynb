{
  "nbformat": 4,
  "nbformat_minor": 0,
  "metadata": {
    "colab": {
      "provenance": [],
      "authorship_tag": "ABX9TyPUkSopWCyrhFmwjchn3Fpa",
      "include_colab_link": true
    },
    "kernelspec": {
      "name": "python3",
      "display_name": "Python 3"
    },
    "language_info": {
      "name": "python"
    }
  },
  "cells": [
    {
      "cell_type": "markdown",
      "metadata": {
        "id": "view-in-github",
        "colab_type": "text"
      },
      "source": [
        "<a href=\"https://colab.research.google.com/github/elichen/aoc2024/blob/main/Day_13_Claw_Contraption.ipynb\" target=\"_parent\"><img src=\"https://colab.research.google.com/assets/colab-badge.svg\" alt=\"Open In Colab\"/></a>"
      ]
    },
    {
      "cell_type": "code",
      "source": [
        "%pip install z3-solver"
      ],
      "metadata": {
        "colab": {
          "base_uri": "https://localhost:8080/"
        },
        "id": "DbJK7fvBWuRt",
        "outputId": "27026d5c-1edd-4ba4-e1f9-84ee39ff4cbb"
      },
      "execution_count": 11,
      "outputs": [
        {
          "output_type": "stream",
          "name": "stdout",
          "text": [
            "Requirement already satisfied: z3-solver in /usr/local/lib/python3.10/dist-packages (4.13.3.0)\n"
          ]
        }
      ]
    },
    {
      "cell_type": "code",
      "source": [
        "input = \"\"\"Button A: X+94, Y+34\n",
        "Button B: X+22, Y+67\n",
        "Prize: X=8400, Y=5400\n",
        "\n",
        "Button A: X+26, Y+66\n",
        "Button B: X+67, Y+21\n",
        "Prize: X=12748, Y=12176\n",
        "\n",
        "Button A: X+17, Y+86\n",
        "Button B: X+84, Y+37\n",
        "Prize: X=7870, Y=6450\n",
        "\n",
        "Button A: X+69, Y+23\n",
        "Button B: X+27, Y+71\n",
        "Prize: X=18641, Y=10279\"\"\""
      ],
      "metadata": {
        "id": "PL9fv_NLX_AZ"
      },
      "execution_count": 12,
      "outputs": []
    },
    {
      "cell_type": "code",
      "source": [
        "input = open(\"input.txt\").read()"
      ],
      "metadata": {
        "id": "tZDF3a-eYKVg"
      },
      "execution_count": 15,
      "outputs": []
    },
    {
      "cell_type": "code",
      "execution_count": 16,
      "metadata": {
        "id": "n-lOfWMRWoUh"
      },
      "outputs": [],
      "source": [
        "from z3 import *\n",
        "import re\n",
        "\n",
        "from z3 import Int, Solver, sat\n",
        "import re\n",
        "\n",
        "def solve_button_equations(input_text):\n",
        "    # Parse input text into groups of equations\n",
        "    pattern = r'Button A: X\\+(\\d+), Y\\+(\\d+)\\nButton B: X\\+(\\d+), Y\\+(\\d+)\\nPrize: X=(\\d+), Y=(\\d+)'\n",
        "    matches = re.finditer(pattern, input_text)\n",
        "\n",
        "    results = []\n",
        "\n",
        "    for match in matches:\n",
        "        # Extract values from regex match\n",
        "        a_x, a_y, b_x, b_y, prize_x, prize_y = map(int, match.groups())\n",
        "\n",
        "        # Create Z3 solver\n",
        "        solver = Solver()\n",
        "\n",
        "        # Define variables as integers\n",
        "        a = Int('a')\n",
        "        b = Int('b')\n",
        "\n",
        "        # Add constraints\n",
        "        solver.add(a * a_x + b * b_x == prize_x)  # X equation\n",
        "        solver.add(a * a_y + b * b_y == prize_y)  # Y equation\n",
        "        solver.add(a >= 0)  # a must be positive\n",
        "        solver.add(b >= 0)  # b must be positive\n",
        "\n",
        "        # Check if solvable\n",
        "        if solver.check() == sat:\n",
        "            model = solver.model()\n",
        "\n",
        "            # Convert model values to integers\n",
        "            a_val = model[a].as_long()\n",
        "            b_val = model[b].as_long()\n",
        "\n",
        "            # Only add solution if both values are positive\n",
        "            if a_val >= 0 and b_val >= 0:\n",
        "                results.append((a_val, b_val))\n",
        "        else:\n",
        "            results.append(None)\n",
        "\n",
        "    return results if results else None\n",
        "\n",
        "result = solve_button_equations(input)"
      ]
    },
    {
      "cell_type": "code",
      "source": [
        "total_presses = 0\n",
        "for solution in result:\n",
        "    if solution is None:\n",
        "        continue\n",
        "\n",
        "    a_presses, b_presses = solution\n",
        "    set_total = (3 * a_presses) + (1 * b_presses)\n",
        "    total_presses += set_total\n",
        "total_presses"
      ],
      "metadata": {
        "colab": {
          "base_uri": "https://localhost:8080/"
        },
        "id": "ES135lcyW5z4",
        "outputId": "b5fa5e2e-1892-4a2b-c99b-ef9505aaefb0"
      },
      "execution_count": 17,
      "outputs": [
        {
          "output_type": "execute_result",
          "data": {
            "text/plain": [
              "39996"
            ]
          },
          "metadata": {},
          "execution_count": 17
        }
      ]
    },
    {
      "cell_type": "code",
      "source": [],
      "metadata": {
        "id": "fWI2pU-9YMi-"
      },
      "execution_count": null,
      "outputs": []
    }
  ]
}