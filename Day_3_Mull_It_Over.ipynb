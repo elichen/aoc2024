{
  "nbformat": 4,
  "nbformat_minor": 0,
  "metadata": {
    "colab": {
      "provenance": [],
      "authorship_tag": "ABX9TyOAn2X6JveqxDSxF2HRzbDu",
      "include_colab_link": true
    },
    "kernelspec": {
      "name": "python3",
      "display_name": "Python 3"
    },
    "language_info": {
      "name": "python"
    }
  },
  "cells": [
    {
      "cell_type": "markdown",
      "metadata": {
        "id": "view-in-github",
        "colab_type": "text"
      },
      "source": [
        "<a href=\"https://colab.research.google.com/github/elichen/aoc2024/blob/main/Day_3_Mull_It_Over.ipynb\" target=\"_parent\"><img src=\"https://colab.research.google.com/assets/colab-badge.svg\" alt=\"Open In Colab\"/></a>"
      ]
    },
    {
      "cell_type": "code",
      "source": [
        "input = \"xmul(2,4)%&mul[3,7]!@^do_not_mul(5,5)+mul(32,64]then(mul(11,8)mul(8,5))\""
      ],
      "metadata": {
        "id": "eAZ-eyVPEjYe"
      },
      "execution_count": 43,
      "outputs": []
    },
    {
      "cell_type": "code",
      "source": [
        "input = open(\"input.txt\").read()"
      ],
      "metadata": {
        "id": "gtZD1A_dE2K9"
      },
      "execution_count": 44,
      "outputs": []
    },
    {
      "cell_type": "code",
      "execution_count": 45,
      "metadata": {
        "colab": {
          "base_uri": "https://localhost:8080/"
        },
        "id": "4Kl4q2bzEApl",
        "outputId": "e05f3968-43ea-467f-e458-9e85e5a963f2"
      },
      "outputs": [
        {
          "output_type": "execute_result",
          "data": {
            "text/plain": [
              "170068701"
            ]
          },
          "metadata": {},
          "execution_count": 45
        }
      ],
      "source": [
        "import re\n",
        "\n",
        "pattern = r\"mul\\((\\d+),(\\d+)\\)\"\n",
        "matches = re.findall(pattern, input)\n",
        "sum(int(x) * int(y) for x, y in matches)"
      ]
    },
    {
      "cell_type": "code",
      "source": [
        "pattern = r\"mul\\((\\d+),(\\d+)\\)|do\\(\\)|don't\\(\\)\"\n",
        "matches = re.finditer(pattern, input)\n",
        "\n",
        "result = 0\n",
        "enabled = True\n",
        "for match in matches:\n",
        "    if match.group(1) and match.group(2) and enabled:  # mul(X,Y)\n",
        "        result += int(match.group(1)) * int(match.group(2))\n",
        "    elif match.group(0) == \"do()\":\n",
        "        enabled = True\n",
        "    elif match.group(0) == \"don't()\":\n",
        "        enabled = False\n",
        "result"
      ],
      "metadata": {
        "id": "WQ-nK2xdFRZi",
        "colab": {
          "base_uri": "https://localhost:8080/"
        },
        "outputId": "a6ea4383-7959-4091-9f73-547ef128899b"
      },
      "execution_count": 46,
      "outputs": [
        {
          "output_type": "execute_result",
          "data": {
            "text/plain": [
              "78683433"
            ]
          },
          "metadata": {},
          "execution_count": 46
        }
      ]
    }
  ]
}