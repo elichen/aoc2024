{
  "nbformat": 4,
  "nbformat_minor": 0,
  "metadata": {
    "colab": {
      "provenance": [],
      "authorship_tag": "ABX9TyNe1RJM+0ckGkahIs33ZOf9",
      "include_colab_link": true
    },
    "kernelspec": {
      "name": "python3",
      "display_name": "Python 3"
    },
    "language_info": {
      "name": "python"
    }
  },
  "cells": [
    {
      "cell_type": "markdown",
      "metadata": {
        "id": "view-in-github",
        "colab_type": "text"
      },
      "source": [
        "<a href=\"https://colab.research.google.com/github/elichen/aoc2024/blob/main/Day_10_Hoof_It.ipynb\" target=\"_parent\"><img src=\"https://colab.research.google.com/assets/colab-badge.svg\" alt=\"Open In Colab\"/></a>"
      ]
    },
    {
      "cell_type": "code",
      "execution_count": 1,
      "metadata": {
        "id": "82LhdjNcL_QZ"
      },
      "outputs": [],
      "source": [
        "input = \"\"\"89010123\n",
        "78121874\n",
        "87430965\n",
        "96549874\n",
        "45678903\n",
        "32019012\n",
        "01329801\n",
        "10456732\"\"\""
      ]
    },
    {
      "cell_type": "code",
      "source": [
        "input = open(\"input.txt\").read()"
      ],
      "metadata": {
        "id": "HuqRipazNqyA"
      },
      "execution_count": 8,
      "outputs": []
    },
    {
      "cell_type": "code",
      "source": [
        "from collections import deque, defaultdict\n",
        "\n",
        "def bfs_from_zeros(input_map):\n",
        "    # Parse the input into a 2D list\n",
        "    grid = [list(map(int, list(line))) for line in input_map.strip().split('\\n')]\n",
        "    rows, cols = len(grid), len(grid[0])\n",
        "\n",
        "    # Initialize the return map and paths list\n",
        "    start_scores = defaultdict(int)\n",
        "    paths = []\n",
        "\n",
        "    # Directions for NESW\n",
        "    directions = [(-1, 0), (1, 0), (0, -1), (0, 1)]\n",
        "\n",
        "    # Helper function to perform BFS\n",
        "    def bfs(start_row, start_col):\n",
        "        queue = deque([(start_row, start_col, [(start_row, start_col)])])\n",
        "        visited = set()\n",
        "        visited.add((start_row, start_col))\n",
        "\n",
        "        while queue:\n",
        "            x, y, path = queue.popleft()\n",
        "            current_value = grid[x][y]\n",
        "\n",
        "            for dx, dy in directions:\n",
        "                nx, ny = x + dx, y + dy\n",
        "                if 0 <= nx < rows and 0 <= ny < cols and (nx, ny) not in visited:\n",
        "                    if grid[nx][ny] == current_value + 1:\n",
        "                        next_path = path + [(nx, ny)]\n",
        "                        visited.add((nx, ny))\n",
        "                        queue.append((nx, ny, next_path))\n",
        "\n",
        "                        # If path ends in 9, update the score\n",
        "                        if grid[nx][ny] == 9:\n",
        "                            start_scores[(start_row, start_col)] += 1\n",
        "                            paths.append(((start_row, start_col), next_path))\n",
        "\n",
        "    # Start BFS from every cell with a 0\n",
        "    for r in range(rows):\n",
        "        for c in range(cols):\n",
        "            if grid[r][c] == 0:\n",
        "                bfs(r, c)\n",
        "\n",
        "    return start_scores\n",
        "\n",
        "result = bfs_from_zeros(input)\n",
        "sum(result.values())"
      ],
      "metadata": {
        "colab": {
          "base_uri": "https://localhost:8080/"
        },
        "id": "KRAlqDpQNCW3",
        "outputId": "a04511b2-dff1-4aa3-b9a1-e352b1a8a5d4"
      },
      "execution_count": 9,
      "outputs": [
        {
          "output_type": "execute_result",
          "data": {
            "text/plain": [
              "811"
            ]
          },
          "metadata": {},
          "execution_count": 9
        }
      ]
    },
    {
      "cell_type": "code",
      "source": [],
      "metadata": {
        "id": "GSq15qPlNsqq"
      },
      "execution_count": null,
      "outputs": []
    }
  ]
}