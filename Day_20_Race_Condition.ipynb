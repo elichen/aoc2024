{
  "nbformat": 4,
  "nbformat_minor": 0,
  "metadata": {
    "colab": {
      "provenance": [],
      "authorship_tag": "ABX9TyObPj5mEi9PeQPdBzuVKEmT",
      "include_colab_link": true
    },
    "kernelspec": {
      "name": "python3",
      "display_name": "Python 3"
    },
    "language_info": {
      "name": "python"
    }
  },
  "cells": [
    {
      "cell_type": "markdown",
      "metadata": {
        "id": "view-in-github",
        "colab_type": "text"
      },
      "source": [
        "<a href=\"https://colab.research.google.com/github/elichen/aoc2024/blob/main/Day_20_Race_Condition.ipynb\" target=\"_parent\"><img src=\"https://colab.research.google.com/assets/colab-badge.svg\" alt=\"Open In Colab\"/></a>"
      ]
    },
    {
      "cell_type": "code",
      "source": [
        "input = \"\"\"###############\n",
        "#...#...#.....#\n",
        "#.#.#.#.#.###.#\n",
        "#S#...#.#.#...#\n",
        "#######.#.#.###\n",
        "#######.#.#...#\n",
        "#######.#.###.#\n",
        "###..E#...#...#\n",
        "###.#######.###\n",
        "#...###...#...#\n",
        "#.#####.#.###.#\n",
        "#.#...#.#.#...#\n",
        "#.#.#.#.#.#.###\n",
        "#...#...#...###\n",
        "###############\"\"\""
      ],
      "metadata": {
        "id": "2tEod6VR1qmG"
      },
      "execution_count": 28,
      "outputs": []
    },
    {
      "cell_type": "code",
      "source": [
        "input = open(\"input.txt\").read().rstrip()"
      ],
      "metadata": {
        "id": "7fR7XFKb9HI4"
      },
      "execution_count": 41,
      "outputs": []
    },
    {
      "cell_type": "code",
      "execution_count": 42,
      "metadata": {
        "colab": {
          "base_uri": "https://localhost:8080/"
        },
        "id": "ohA5gyq6ZXbm",
        "outputId": "a90f4d50-ec48-4423-9322-09215697504b"
      },
      "outputs": [
        {
          "output_type": "execute_result",
          "data": {
            "text/plain": [
              "1323"
            ]
          },
          "metadata": {},
          "execution_count": 42
        }
      ],
      "source": [
        "from collections import defaultdict, deque\n",
        "from typing import List, Dict, Set, Tuple\n",
        "\n",
        "def solve_maze(maze_str: str) -> Dict[int, int]:\n",
        "    # Convert string maze to 2D grid\n",
        "    grid = maze_str.split('\\n')\n",
        "    rows, cols = len(grid), len(grid[0])\n",
        "\n",
        "    # Find start and end positions\n",
        "    start = end = None\n",
        "    for i in range(rows):\n",
        "        for j in range(cols):\n",
        "            if grid[i][j] == 'S':\n",
        "                start = (i, j)\n",
        "            elif grid[i][j] == 'E':\n",
        "                end = (i, j)\n",
        "\n",
        "    # First BFS: Find no-skip shortest path and track all positions with their steps\n",
        "    queue = deque([(start[0], start[1], 0, {start})])\n",
        "    no_skip_paths = {}  # (row, col) -> steps taken\n",
        "    shortest_normal = float('inf')\n",
        "\n",
        "    # Find all positions reachable without skips and their steps\n",
        "    while queue:\n",
        "        row, col, steps, path = queue.popleft()\n",
        "\n",
        "        # Found end\n",
        "        if grid[row][col] == 'E':\n",
        "            shortest_normal = min(shortest_normal, steps)\n",
        "            continue\n",
        "\n",
        "        # Record position and steps\n",
        "        pos = (row, col)\n",
        "        if pos not in no_skip_paths or steps < no_skip_paths[pos]:\n",
        "            no_skip_paths[pos] = steps\n",
        "\n",
        "        # Try all directions\n",
        "        for dx, dy in [(-1, 0), (0, 1), (1, 0), (0, -1)]:\n",
        "            new_row, new_col = row + dx, col + dy\n",
        "\n",
        "            # Check bounds and walls\n",
        "            if not (0 <= new_row < rows and 0 <= new_col < cols):\n",
        "                continue\n",
        "\n",
        "            new_pos = (new_row, new_col)\n",
        "            if new_pos in path:\n",
        "                continue\n",
        "\n",
        "            # Only normal moves (no skips)\n",
        "            if grid[new_row][new_col] == '.' or grid[new_row][new_col] == 'E':\n",
        "                new_path = path | {new_pos}\n",
        "                queue.append((new_row, new_col, steps + 1, new_path))\n",
        "\n",
        "    # Second BFS: Find paths with skips that intersect with no-skip paths\n",
        "    queue = deque([(start[0], start[1], 0, True, {start})])\n",
        "    steps_saved = defaultdict(int)\n",
        "\n",
        "    while queue:\n",
        "        row, col, steps, can_skip, path = queue.popleft()\n",
        "        pos = (row, col)\n",
        "\n",
        "        # If we hit a position in no-skip paths, calculate steps saved\n",
        "        if not can_skip and pos in no_skip_paths:\n",
        "            saved = no_skip_paths[pos] - steps\n",
        "            if saved > 0:\n",
        "                steps_saved[saved] += 1\n",
        "            continue\n",
        "\n",
        "        # Try all directions\n",
        "        for dx, dy in [(-1, 0), (0, 1), (1, 0), (0, -1)]:\n",
        "            new_row, new_col = row + dx, col + dy\n",
        "\n",
        "            # Check bounds\n",
        "            if not (0 <= new_row < rows and 0 <= new_col < cols):\n",
        "                continue\n",
        "\n",
        "            new_pos = (new_row, new_col)\n",
        "            if new_pos in path:\n",
        "                continue\n",
        "\n",
        "            # Normal move through path\n",
        "            if grid[new_row][new_col] == '.' or grid[new_row][new_col] == 'E':\n",
        "                new_path = path | {new_pos}\n",
        "                queue.append((new_row, new_col, steps + 1, can_skip, new_path))\n",
        "\n",
        "            # Skip through wall if allowed\n",
        "            elif grid[new_row][new_col] == '#' and can_skip:\n",
        "                skip_row, skip_col = new_row + dx, new_col + dy\n",
        "                if (0 <= skip_row < rows and 0 <= skip_col < cols and\n",
        "                    (grid[skip_row][skip_col] == '.' or grid[skip_row][skip_col] == 'E')):\n",
        "                    skip_pos = (skip_row, skip_col)\n",
        "                    if skip_pos not in path:\n",
        "                        new_path = path | {new_pos, skip_pos}\n",
        "                        queue.append((skip_row, skip_col, steps + 2, False, new_path))\n",
        "\n",
        "    return dict(steps_saved)\n",
        "\n",
        "steps_saved = solve_maze(input)\n",
        "sum(count for steps, count in steps_saved.items() if steps >= 100)"
      ]
    }
  ]
}