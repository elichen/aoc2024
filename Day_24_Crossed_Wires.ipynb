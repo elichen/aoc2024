{
  "nbformat": 4,
  "nbformat_minor": 0,
  "metadata": {
    "colab": {
      "provenance": [],
      "authorship_tag": "ABX9TyOr4cFzBkoEfBGWC6TD8uKD",
      "include_colab_link": true
    },
    "kernelspec": {
      "name": "python3",
      "display_name": "Python 3"
    },
    "language_info": {
      "name": "python"
    }
  },
  "cells": [
    {
      "cell_type": "markdown",
      "metadata": {
        "id": "view-in-github",
        "colab_type": "text"
      },
      "source": [
        "<a href=\"https://colab.research.google.com/github/elichen/aoc2024/blob/main/Day_24_Crossed_Wires.ipynb\" target=\"_parent\"><img src=\"https://colab.research.google.com/assets/colab-badge.svg\" alt=\"Open In Colab\"/></a>"
      ]
    },
    {
      "cell_type": "code",
      "source": [
        "input = \"\"\"x00: 1\n",
        "x01: 0\n",
        "x02: 1\n",
        "x03: 1\n",
        "x04: 0\n",
        "y00: 1\n",
        "y01: 1\n",
        "y02: 1\n",
        "y03: 1\n",
        "y04: 1\n",
        "\n",
        "ntg XOR fgs -> mjb\n",
        "y02 OR x01 -> tnw\n",
        "kwq OR kpj -> z05\n",
        "x00 OR x03 -> fst\n",
        "tgd XOR rvg -> z01\n",
        "vdt OR tnw -> bfw\n",
        "bfw AND frj -> z10\n",
        "ffh OR nrd -> bqk\n",
        "y00 AND y03 -> djm\n",
        "y03 OR y00 -> psh\n",
        "bqk OR frj -> z08\n",
        "tnw OR fst -> frj\n",
        "gnj AND tgd -> z11\n",
        "bfw XOR mjb -> z00\n",
        "x03 OR x00 -> vdt\n",
        "gnj AND wpb -> z02\n",
        "x04 AND y00 -> kjc\n",
        "djm OR pbm -> qhw\n",
        "nrd AND vdt -> hwm\n",
        "kjc AND fst -> rvg\n",
        "y04 OR y02 -> fgs\n",
        "y01 AND x02 -> pbm\n",
        "ntg OR kjc -> kwq\n",
        "psh XOR fgs -> tgd\n",
        "qhw XOR tgd -> z09\n",
        "pbm OR djm -> kpj\n",
        "x03 XOR y03 -> ffh\n",
        "x00 XOR y04 -> ntg\n",
        "bfw OR bqk -> z06\n",
        "nrd XOR fgs -> wpb\n",
        "frj XOR qhw -> z04\n",
        "bqk OR frj -> z07\n",
        "y03 OR x01 -> nrd\n",
        "hwm AND bqk -> z03\n",
        "tgd XOR rvg -> z12\n",
        "tnw OR pbm -> gnj\"\"\""
      ],
      "metadata": {
        "id": "TGAeQggYnVuk"
      },
      "execution_count": 4,
      "outputs": []
    },
    {
      "cell_type": "code",
      "source": [
        "input = open(\"input.txt\").read()"
      ],
      "metadata": {
        "id": "QUCEjwgPnYKW"
      },
      "execution_count": 5,
      "outputs": []
    },
    {
      "cell_type": "code",
      "execution_count": 8,
      "metadata": {
        "colab": {
          "base_uri": "https://localhost:8080/"
        },
        "id": "dE4--R3zWK1D",
        "outputId": "e1e9573f-dd89-4503-c2da-f53bdd2898be"
      },
      "outputs": [
        {
          "output_type": "execute_result",
          "data": {
            "text/plain": [
              "61886126253040"
            ]
          },
          "metadata": {},
          "execution_count": 8
        }
      ],
      "source": [
        "def parse_input(input_str):\n",
        "    lines = input_str.strip().split('\\n')\n",
        "\n",
        "    # Parse wire values\n",
        "    wire_values = {}\n",
        "    dependencies = {}\n",
        "\n",
        "    # Find the empty line that separates the two parts\n",
        "    split_idx = lines.index('')\n",
        "\n",
        "    # Parse wire values\n",
        "    for line in lines[:split_idx]:\n",
        "        wire, value = line.split(': ')\n",
        "        wire_values[wire] = int(value)\n",
        "\n",
        "    # Parse dependencies\n",
        "    for line in lines[split_idx+1:]:\n",
        "        left, right = line.split(' -> ')\n",
        "        inputs = left.split(' ')\n",
        "        dependencies[right] = (inputs[0], inputs[1], inputs[2])  # (wire1, operator, wire2)\n",
        "\n",
        "    return wire_values, dependencies\n",
        "\n",
        "def evaluate(wire, wire_values, dependencies):\n",
        "    # Base case: if wire value is known\n",
        "    if wire in wire_values:\n",
        "        return wire_values[wire]\n",
        "\n",
        "    # Get dependency info\n",
        "    wire1, op, wire2 = dependencies[wire]\n",
        "\n",
        "    # Recursively evaluate input wires\n",
        "    val1 = evaluate(wire1, wire_values, dependencies)\n",
        "    val2 = evaluate(wire2, wire_values, dependencies)\n",
        "\n",
        "    # Compute result based on operator\n",
        "    if op == 'AND':\n",
        "        result = val1 & val2\n",
        "    elif op == 'OR':\n",
        "        result = val1 | val2\n",
        "    elif op == 'XOR':\n",
        "        result = val1 ^ val2\n",
        "\n",
        "    # Cache result\n",
        "    wire_values[wire] = result\n",
        "    return result\n",
        "\n",
        "def solve_circuit(input_str):\n",
        "    wire_values, dependencies = parse_input(input_str)\n",
        "\n",
        "    # Get all z wires and sort them\n",
        "    z_wires = sorted([wire for wire in dependencies.keys() if wire.startswith('z')])\n",
        "\n",
        "    # Evaluate each z wire\n",
        "    results = {}\n",
        "    for z_wire in z_wires:\n",
        "        results[z_wire] = evaluate(z_wire, wire_values, dependencies)\n",
        "\n",
        "    return results\n",
        "\n",
        "\n",
        "result = solve_circuit(input)\n",
        "sum(v << i for i, (k, v) in enumerate(sorted(result.items())))"
      ]
    },
    {
      "cell_type": "code",
      "source": [],
      "metadata": {
        "id": "N89SZS91mwVa"
      },
      "execution_count": null,
      "outputs": []
    }
  ]
}